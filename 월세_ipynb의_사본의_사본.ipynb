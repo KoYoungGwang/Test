{
  "nbformat": 4,
  "nbformat_minor": 0,
  "metadata": {
    "colab": {
      "provenance": []
    },
    "kernelspec": {
      "name": "python3",
      "display_name": "Python 3"
    },
    "language_info": {
      "name": "python"
    }
  },
  "cells": [
    {
      "cell_type": "code",
      "execution_count": 1,
      "metadata": {
        "id": "0_GJRHn4cqMu"
      },
      "outputs": [],
      "source": [
        "import pandas as pd\n",
        "from sklearn.model_selection import train_test_split\n",
        "from sklearn.model_selection import cross_val_score\n",
        "from sklearn.neighbors import KNeighborsRegressor\n",
        "from imblearn.over_sampling import SMOTE"
      ]
    },
    {
      "cell_type": "code",
      "source": [
        "df = pd.read_csv(\"/content/drive/MyDrive/복사본 train1.csv\",encoding = \"cp949\")"
      ],
      "metadata": {
        "id": "vkimoib0c4FR"
      },
      "execution_count": 2,
      "outputs": []
    },
    {
      "cell_type": "code",
      "source": [
        "df1=df.drop([\"이름\"],axis=1)\n",
        "df=df1\n",
        "df"
      ],
      "metadata": {
        "colab": {
          "base_uri": "https://localhost:8080/",
          "height": 424
        },
        "id": "EXMfMwipK3Ol",
        "outputId": "2fe9c99e-6521-438c-a056-edb8562717a4"
      },
      "execution_count": 3,
      "outputs": [
        {
          "output_type": "execute_result",
          "data": {
            "text/plain": [
              "      집 종류  방 개수    지하철 거리      공항 거리      병원 거리      기차 거리      면적  월세 달러\n",
              "0        3     3  0.312579  22.646032  11.726966   7.352495   83.61    307\n",
              "1        1     1  2.486167  13.500583   7.527761  15.877066   83.61    110\n",
              "2        1     3  1.528794  18.918243  17.135939  10.315737   78.97    369\n",
              "3        1     3  0.967121  17.749252  16.251937   9.797817  162.58    676\n",
              "4        3     4  0.834506   4.288189  15.541840  18.179806  218.32    418\n",
              "...    ...   ...       ...        ...        ...        ...     ...    ...\n",
              "8687     3     1  0.005681   7.776390  18.212199  19.535831   46.45    159\n",
              "8688     3     1  0.007987  12.969368   9.442664   5.039023   81.29    172\n",
              "8689     1     3  0.203502  17.094466   5.468956  11.109941  148.64    738\n",
              "8690     1     1  0.248603  20.628700   9.801128   5.679541   41.90    184\n",
              "8691     1     2  1.226364  18.275872  17.535608  11.251435   69.68    319\n",
              "\n",
              "[8692 rows x 8 columns]"
            ],
            "text/html": [
              "\n",
              "  <div id=\"df-3bb9cdea-cbee-4d5d-b8bb-fd256184679b\">\n",
              "    <div class=\"colab-df-container\">\n",
              "      <div>\n",
              "<style scoped>\n",
              "    .dataframe tbody tr th:only-of-type {\n",
              "        vertical-align: middle;\n",
              "    }\n",
              "\n",
              "    .dataframe tbody tr th {\n",
              "        vertical-align: top;\n",
              "    }\n",
              "\n",
              "    .dataframe thead th {\n",
              "        text-align: right;\n",
              "    }\n",
              "</style>\n",
              "<table border=\"1\" class=\"dataframe\">\n",
              "  <thead>\n",
              "    <tr style=\"text-align: right;\">\n",
              "      <th></th>\n",
              "      <th>집 종류</th>\n",
              "      <th>방 개수</th>\n",
              "      <th>지하철 거리</th>\n",
              "      <th>공항 거리</th>\n",
              "      <th>병원 거리</th>\n",
              "      <th>기차 거리</th>\n",
              "      <th>면적</th>\n",
              "      <th>월세 달러</th>\n",
              "    </tr>\n",
              "  </thead>\n",
              "  <tbody>\n",
              "    <tr>\n",
              "      <th>0</th>\n",
              "      <td>3</td>\n",
              "      <td>3</td>\n",
              "      <td>0.312579</td>\n",
              "      <td>22.646032</td>\n",
              "      <td>11.726966</td>\n",
              "      <td>7.352495</td>\n",
              "      <td>83.61</td>\n",
              "      <td>307</td>\n",
              "    </tr>\n",
              "    <tr>\n",
              "      <th>1</th>\n",
              "      <td>1</td>\n",
              "      <td>1</td>\n",
              "      <td>2.486167</td>\n",
              "      <td>13.500583</td>\n",
              "      <td>7.527761</td>\n",
              "      <td>15.877066</td>\n",
              "      <td>83.61</td>\n",
              "      <td>110</td>\n",
              "    </tr>\n",
              "    <tr>\n",
              "      <th>2</th>\n",
              "      <td>1</td>\n",
              "      <td>3</td>\n",
              "      <td>1.528794</td>\n",
              "      <td>18.918243</td>\n",
              "      <td>17.135939</td>\n",
              "      <td>10.315737</td>\n",
              "      <td>78.97</td>\n",
              "      <td>369</td>\n",
              "    </tr>\n",
              "    <tr>\n",
              "      <th>3</th>\n",
              "      <td>1</td>\n",
              "      <td>3</td>\n",
              "      <td>0.967121</td>\n",
              "      <td>17.749252</td>\n",
              "      <td>16.251937</td>\n",
              "      <td>9.797817</td>\n",
              "      <td>162.58</td>\n",
              "      <td>676</td>\n",
              "    </tr>\n",
              "    <tr>\n",
              "      <th>4</th>\n",
              "      <td>3</td>\n",
              "      <td>4</td>\n",
              "      <td>0.834506</td>\n",
              "      <td>4.288189</td>\n",
              "      <td>15.541840</td>\n",
              "      <td>18.179806</td>\n",
              "      <td>218.32</td>\n",
              "      <td>418</td>\n",
              "    </tr>\n",
              "    <tr>\n",
              "      <th>...</th>\n",
              "      <td>...</td>\n",
              "      <td>...</td>\n",
              "      <td>...</td>\n",
              "      <td>...</td>\n",
              "      <td>...</td>\n",
              "      <td>...</td>\n",
              "      <td>...</td>\n",
              "      <td>...</td>\n",
              "    </tr>\n",
              "    <tr>\n",
              "      <th>8687</th>\n",
              "      <td>3</td>\n",
              "      <td>1</td>\n",
              "      <td>0.005681</td>\n",
              "      <td>7.776390</td>\n",
              "      <td>18.212199</td>\n",
              "      <td>19.535831</td>\n",
              "      <td>46.45</td>\n",
              "      <td>159</td>\n",
              "    </tr>\n",
              "    <tr>\n",
              "      <th>8688</th>\n",
              "      <td>3</td>\n",
              "      <td>1</td>\n",
              "      <td>0.007987</td>\n",
              "      <td>12.969368</td>\n",
              "      <td>9.442664</td>\n",
              "      <td>5.039023</td>\n",
              "      <td>81.29</td>\n",
              "      <td>172</td>\n",
              "    </tr>\n",
              "    <tr>\n",
              "      <th>8689</th>\n",
              "      <td>1</td>\n",
              "      <td>3</td>\n",
              "      <td>0.203502</td>\n",
              "      <td>17.094466</td>\n",
              "      <td>5.468956</td>\n",
              "      <td>11.109941</td>\n",
              "      <td>148.64</td>\n",
              "      <td>738</td>\n",
              "    </tr>\n",
              "    <tr>\n",
              "      <th>8690</th>\n",
              "      <td>1</td>\n",
              "      <td>1</td>\n",
              "      <td>0.248603</td>\n",
              "      <td>20.628700</td>\n",
              "      <td>9.801128</td>\n",
              "      <td>5.679541</td>\n",
              "      <td>41.90</td>\n",
              "      <td>184</td>\n",
              "    </tr>\n",
              "    <tr>\n",
              "      <th>8691</th>\n",
              "      <td>1</td>\n",
              "      <td>2</td>\n",
              "      <td>1.226364</td>\n",
              "      <td>18.275872</td>\n",
              "      <td>17.535608</td>\n",
              "      <td>11.251435</td>\n",
              "      <td>69.68</td>\n",
              "      <td>319</td>\n",
              "    </tr>\n",
              "  </tbody>\n",
              "</table>\n",
              "<p>8692 rows × 8 columns</p>\n",
              "</div>\n",
              "      <button class=\"colab-df-convert\" onclick=\"convertToInteractive('df-3bb9cdea-cbee-4d5d-b8bb-fd256184679b')\"\n",
              "              title=\"Convert this dataframe to an interactive table.\"\n",
              "              style=\"display:none;\">\n",
              "        \n",
              "  <svg xmlns=\"http://www.w3.org/2000/svg\" height=\"24px\"viewBox=\"0 0 24 24\"\n",
              "       width=\"24px\">\n",
              "    <path d=\"M0 0h24v24H0V0z\" fill=\"none\"/>\n",
              "    <path d=\"M18.56 5.44l.94 2.06.94-2.06 2.06-.94-2.06-.94-.94-2.06-.94 2.06-2.06.94zm-11 1L8.5 8.5l.94-2.06 2.06-.94-2.06-.94L8.5 2.5l-.94 2.06-2.06.94zm10 10l.94 2.06.94-2.06 2.06-.94-2.06-.94-.94-2.06-.94 2.06-2.06.94z\"/><path d=\"M17.41 7.96l-1.37-1.37c-.4-.4-.92-.59-1.43-.59-.52 0-1.04.2-1.43.59L10.3 9.45l-7.72 7.72c-.78.78-.78 2.05 0 2.83L4 21.41c.39.39.9.59 1.41.59.51 0 1.02-.2 1.41-.59l7.78-7.78 2.81-2.81c.8-.78.8-2.07 0-2.86zM5.41 20L4 18.59l7.72-7.72 1.47 1.35L5.41 20z\"/>\n",
              "  </svg>\n",
              "      </button>\n",
              "      \n",
              "  <style>\n",
              "    .colab-df-container {\n",
              "      display:flex;\n",
              "      flex-wrap:wrap;\n",
              "      gap: 12px;\n",
              "    }\n",
              "\n",
              "    .colab-df-convert {\n",
              "      background-color: #E8F0FE;\n",
              "      border: none;\n",
              "      border-radius: 50%;\n",
              "      cursor: pointer;\n",
              "      display: none;\n",
              "      fill: #1967D2;\n",
              "      height: 32px;\n",
              "      padding: 0 0 0 0;\n",
              "      width: 32px;\n",
              "    }\n",
              "\n",
              "    .colab-df-convert:hover {\n",
              "      background-color: #E2EBFA;\n",
              "      box-shadow: 0px 1px 2px rgba(60, 64, 67, 0.3), 0px 1px 3px 1px rgba(60, 64, 67, 0.15);\n",
              "      fill: #174EA6;\n",
              "    }\n",
              "\n",
              "    [theme=dark] .colab-df-convert {\n",
              "      background-color: #3B4455;\n",
              "      fill: #D2E3FC;\n",
              "    }\n",
              "\n",
              "    [theme=dark] .colab-df-convert:hover {\n",
              "      background-color: #434B5C;\n",
              "      box-shadow: 0px 1px 3px 1px rgba(0, 0, 0, 0.15);\n",
              "      filter: drop-shadow(0px 1px 2px rgba(0, 0, 0, 0.3));\n",
              "      fill: #FFFFFF;\n",
              "    }\n",
              "  </style>\n",
              "\n",
              "      <script>\n",
              "        const buttonEl =\n",
              "          document.querySelector('#df-3bb9cdea-cbee-4d5d-b8bb-fd256184679b button.colab-df-convert');\n",
              "        buttonEl.style.display =\n",
              "          google.colab.kernel.accessAllowed ? 'block' : 'none';\n",
              "\n",
              "        async function convertToInteractive(key) {\n",
              "          const element = document.querySelector('#df-3bb9cdea-cbee-4d5d-b8bb-fd256184679b');\n",
              "          const dataTable =\n",
              "            await google.colab.kernel.invokeFunction('convertToInteractive',\n",
              "                                                     [key], {});\n",
              "          if (!dataTable) return;\n",
              "\n",
              "          const docLinkHtml = 'Like what you see? Visit the ' +\n",
              "            '<a target=\"_blank\" href=https://colab.research.google.com/notebooks/data_table.ipynb>data table notebook</a>'\n",
              "            + ' to learn more about interactive tables.';\n",
              "          element.innerHTML = '';\n",
              "          dataTable['output_type'] = 'display_data';\n",
              "          await google.colab.output.renderOutput(dataTable, element);\n",
              "          const docLink = document.createElement('div');\n",
              "          docLink.innerHTML = docLinkHtml;\n",
              "          element.appendChild(docLink);\n",
              "        }\n",
              "      </script>\n",
              "    </div>\n",
              "  </div>\n",
              "  "
            ]
          },
          "metadata": {},
          "execution_count": 3
        }
      ]
    },
    {
      "cell_type": "code",
      "source": [
        "df.info()"
      ],
      "metadata": {
        "colab": {
          "base_uri": "https://localhost:8080/"
        },
        "id": "YcvkBl4frFJW",
        "outputId": "0590f4e7-8037-43f1-acfb-df8ddd3b8855"
      },
      "execution_count": 4,
      "outputs": [
        {
          "output_type": "stream",
          "name": "stdout",
          "text": [
            "<class 'pandas.core.frame.DataFrame'>\n",
            "RangeIndex: 8692 entries, 0 to 8691\n",
            "Data columns (total 8 columns):\n",
            " #   Column  Non-Null Count  Dtype  \n",
            "---  ------  --------------  -----  \n",
            " 0   집 종류    8692 non-null   int64  \n",
            " 1   방 개수    8692 non-null   int64  \n",
            " 2   지하철 거리  8692 non-null   float64\n",
            " 3   공항 거리   8692 non-null   float64\n",
            " 4   병원 거리   8692 non-null   float64\n",
            " 5   기차 거리   8692 non-null   float64\n",
            " 6   면적      8692 non-null   float64\n",
            " 7   월세 달러   8692 non-null   int64  \n",
            "dtypes: float64(5), int64(3)\n",
            "memory usage: 543.4 KB\n"
          ]
        }
      ]
    },
    {
      "cell_type": "code",
      "source": [
        "df.isnull().sum()"
      ],
      "metadata": {
        "colab": {
          "base_uri": "https://localhost:8080/"
        },
        "id": "eAvfYkv12jKp",
        "outputId": "6ef3203b-89b8-49ea-a0c8-56db25aecfd9"
      },
      "execution_count": 5,
      "outputs": [
        {
          "output_type": "execute_result",
          "data": {
            "text/plain": [
              "집 종류      0\n",
              "방 개수      0\n",
              "지하철 거리    0\n",
              "공항 거리     0\n",
              "병원 거리     0\n",
              "기차 거리     0\n",
              "면적        0\n",
              "월세 달러     0\n",
              "dtype: int64"
            ]
          },
          "metadata": {},
          "execution_count": 5
        }
      ]
    },
    {
      "cell_type": "code",
      "source": [
        "df.describe()"
      ],
      "metadata": {
        "colab": {
          "base_uri": "https://localhost:8080/",
          "height": 300
        },
        "id": "vWA2DlScrJcf",
        "outputId": "53875e94-2163-436c-a586-73505f1d5e1a"
      },
      "execution_count": 6,
      "outputs": [
        {
          "output_type": "execute_result",
          "data": {
            "text/plain": [
              "              집 종류         방 개수       지하철 거리        공항 거리        병원 거리  \\\n",
              "count  8692.000000  8692.000000  8692.000000  8692.000000  8692.000000   \n",
              "mean      1.697998     2.119650     0.869998    13.699359    11.373803   \n",
              "std       0.930581     0.900757     1.261337     7.926709     7.500915   \n",
              "min       0.000000     1.000000     0.002892     1.901789     0.669150   \n",
              "25%       1.000000     1.000000     0.459687    11.152285     8.167231   \n",
              "50%       1.000000     2.000000     0.698592    13.139656    10.922441   \n",
              "75%       3.000000     3.000000     1.092694    17.225196    15.548549   \n",
              "max       3.000000     8.000000    65.866623   396.043067   387.016246   \n",
              "\n",
              "             기차 거리           면적        월세 달러  \n",
              "count  8692.000000  8692.000000  8692.000000  \n",
              "mean     11.419991   101.990737   321.376898  \n",
              "std       7.345131    59.355027   230.962181  \n",
              "min       0.722023     9.290000    14.000000  \n",
              "25%       8.075549    55.740000   159.000000  \n",
              "50%      11.244344    83.610000   258.000000  \n",
              "75%      15.435535   139.350000   393.000000  \n",
              "max     390.969378   882.580000  1476.000000  "
            ],
            "text/html": [
              "\n",
              "  <div id=\"df-2e28e92b-5abf-4ee6-9196-271e96b04765\">\n",
              "    <div class=\"colab-df-container\">\n",
              "      <div>\n",
              "<style scoped>\n",
              "    .dataframe tbody tr th:only-of-type {\n",
              "        vertical-align: middle;\n",
              "    }\n",
              "\n",
              "    .dataframe tbody tr th {\n",
              "        vertical-align: top;\n",
              "    }\n",
              "\n",
              "    .dataframe thead th {\n",
              "        text-align: right;\n",
              "    }\n",
              "</style>\n",
              "<table border=\"1\" class=\"dataframe\">\n",
              "  <thead>\n",
              "    <tr style=\"text-align: right;\">\n",
              "      <th></th>\n",
              "      <th>집 종류</th>\n",
              "      <th>방 개수</th>\n",
              "      <th>지하철 거리</th>\n",
              "      <th>공항 거리</th>\n",
              "      <th>병원 거리</th>\n",
              "      <th>기차 거리</th>\n",
              "      <th>면적</th>\n",
              "      <th>월세 달러</th>\n",
              "    </tr>\n",
              "  </thead>\n",
              "  <tbody>\n",
              "    <tr>\n",
              "      <th>count</th>\n",
              "      <td>8692.000000</td>\n",
              "      <td>8692.000000</td>\n",
              "      <td>8692.000000</td>\n",
              "      <td>8692.000000</td>\n",
              "      <td>8692.000000</td>\n",
              "      <td>8692.000000</td>\n",
              "      <td>8692.000000</td>\n",
              "      <td>8692.000000</td>\n",
              "    </tr>\n",
              "    <tr>\n",
              "      <th>mean</th>\n",
              "      <td>1.697998</td>\n",
              "      <td>2.119650</td>\n",
              "      <td>0.869998</td>\n",
              "      <td>13.699359</td>\n",
              "      <td>11.373803</td>\n",
              "      <td>11.419991</td>\n",
              "      <td>101.990737</td>\n",
              "      <td>321.376898</td>\n",
              "    </tr>\n",
              "    <tr>\n",
              "      <th>std</th>\n",
              "      <td>0.930581</td>\n",
              "      <td>0.900757</td>\n",
              "      <td>1.261337</td>\n",
              "      <td>7.926709</td>\n",
              "      <td>7.500915</td>\n",
              "      <td>7.345131</td>\n",
              "      <td>59.355027</td>\n",
              "      <td>230.962181</td>\n",
              "    </tr>\n",
              "    <tr>\n",
              "      <th>min</th>\n",
              "      <td>0.000000</td>\n",
              "      <td>1.000000</td>\n",
              "      <td>0.002892</td>\n",
              "      <td>1.901789</td>\n",
              "      <td>0.669150</td>\n",
              "      <td>0.722023</td>\n",
              "      <td>9.290000</td>\n",
              "      <td>14.000000</td>\n",
              "    </tr>\n",
              "    <tr>\n",
              "      <th>25%</th>\n",
              "      <td>1.000000</td>\n",
              "      <td>1.000000</td>\n",
              "      <td>0.459687</td>\n",
              "      <td>11.152285</td>\n",
              "      <td>8.167231</td>\n",
              "      <td>8.075549</td>\n",
              "      <td>55.740000</td>\n",
              "      <td>159.000000</td>\n",
              "    </tr>\n",
              "    <tr>\n",
              "      <th>50%</th>\n",
              "      <td>1.000000</td>\n",
              "      <td>2.000000</td>\n",
              "      <td>0.698592</td>\n",
              "      <td>13.139656</td>\n",
              "      <td>10.922441</td>\n",
              "      <td>11.244344</td>\n",
              "      <td>83.610000</td>\n",
              "      <td>258.000000</td>\n",
              "    </tr>\n",
              "    <tr>\n",
              "      <th>75%</th>\n",
              "      <td>3.000000</td>\n",
              "      <td>3.000000</td>\n",
              "      <td>1.092694</td>\n",
              "      <td>17.225196</td>\n",
              "      <td>15.548549</td>\n",
              "      <td>15.435535</td>\n",
              "      <td>139.350000</td>\n",
              "      <td>393.000000</td>\n",
              "    </tr>\n",
              "    <tr>\n",
              "      <th>max</th>\n",
              "      <td>3.000000</td>\n",
              "      <td>8.000000</td>\n",
              "      <td>65.866623</td>\n",
              "      <td>396.043067</td>\n",
              "      <td>387.016246</td>\n",
              "      <td>390.969378</td>\n",
              "      <td>882.580000</td>\n",
              "      <td>1476.000000</td>\n",
              "    </tr>\n",
              "  </tbody>\n",
              "</table>\n",
              "</div>\n",
              "      <button class=\"colab-df-convert\" onclick=\"convertToInteractive('df-2e28e92b-5abf-4ee6-9196-271e96b04765')\"\n",
              "              title=\"Convert this dataframe to an interactive table.\"\n",
              "              style=\"display:none;\">\n",
              "        \n",
              "  <svg xmlns=\"http://www.w3.org/2000/svg\" height=\"24px\"viewBox=\"0 0 24 24\"\n",
              "       width=\"24px\">\n",
              "    <path d=\"M0 0h24v24H0V0z\" fill=\"none\"/>\n",
              "    <path d=\"M18.56 5.44l.94 2.06.94-2.06 2.06-.94-2.06-.94-.94-2.06-.94 2.06-2.06.94zm-11 1L8.5 8.5l.94-2.06 2.06-.94-2.06-.94L8.5 2.5l-.94 2.06-2.06.94zm10 10l.94 2.06.94-2.06 2.06-.94-2.06-.94-.94-2.06-.94 2.06-2.06.94z\"/><path d=\"M17.41 7.96l-1.37-1.37c-.4-.4-.92-.59-1.43-.59-.52 0-1.04.2-1.43.59L10.3 9.45l-7.72 7.72c-.78.78-.78 2.05 0 2.83L4 21.41c.39.39.9.59 1.41.59.51 0 1.02-.2 1.41-.59l7.78-7.78 2.81-2.81c.8-.78.8-2.07 0-2.86zM5.41 20L4 18.59l7.72-7.72 1.47 1.35L5.41 20z\"/>\n",
              "  </svg>\n",
              "      </button>\n",
              "      \n",
              "  <style>\n",
              "    .colab-df-container {\n",
              "      display:flex;\n",
              "      flex-wrap:wrap;\n",
              "      gap: 12px;\n",
              "    }\n",
              "\n",
              "    .colab-df-convert {\n",
              "      background-color: #E8F0FE;\n",
              "      border: none;\n",
              "      border-radius: 50%;\n",
              "      cursor: pointer;\n",
              "      display: none;\n",
              "      fill: #1967D2;\n",
              "      height: 32px;\n",
              "      padding: 0 0 0 0;\n",
              "      width: 32px;\n",
              "    }\n",
              "\n",
              "    .colab-df-convert:hover {\n",
              "      background-color: #E2EBFA;\n",
              "      box-shadow: 0px 1px 2px rgba(60, 64, 67, 0.3), 0px 1px 3px 1px rgba(60, 64, 67, 0.15);\n",
              "      fill: #174EA6;\n",
              "    }\n",
              "\n",
              "    [theme=dark] .colab-df-convert {\n",
              "      background-color: #3B4455;\n",
              "      fill: #D2E3FC;\n",
              "    }\n",
              "\n",
              "    [theme=dark] .colab-df-convert:hover {\n",
              "      background-color: #434B5C;\n",
              "      box-shadow: 0px 1px 3px 1px rgba(0, 0, 0, 0.15);\n",
              "      filter: drop-shadow(0px 1px 2px rgba(0, 0, 0, 0.3));\n",
              "      fill: #FFFFFF;\n",
              "    }\n",
              "  </style>\n",
              "\n",
              "      <script>\n",
              "        const buttonEl =\n",
              "          document.querySelector('#df-2e28e92b-5abf-4ee6-9196-271e96b04765 button.colab-df-convert');\n",
              "        buttonEl.style.display =\n",
              "          google.colab.kernel.accessAllowed ? 'block' : 'none';\n",
              "\n",
              "        async function convertToInteractive(key) {\n",
              "          const element = document.querySelector('#df-2e28e92b-5abf-4ee6-9196-271e96b04765');\n",
              "          const dataTable =\n",
              "            await google.colab.kernel.invokeFunction('convertToInteractive',\n",
              "                                                     [key], {});\n",
              "          if (!dataTable) return;\n",
              "\n",
              "          const docLinkHtml = 'Like what you see? Visit the ' +\n",
              "            '<a target=\"_blank\" href=https://colab.research.google.com/notebooks/data_table.ipynb>data table notebook</a>'\n",
              "            + ' to learn more about interactive tables.';\n",
              "          element.innerHTML = '';\n",
              "          dataTable['output_type'] = 'display_data';\n",
              "          await google.colab.output.renderOutput(dataTable, element);\n",
              "          const docLink = document.createElement('div');\n",
              "          docLink.innerHTML = docLinkHtml;\n",
              "          element.appendChild(docLink);\n",
              "        }\n",
              "      </script>\n",
              "    </div>\n",
              "  </div>\n",
              "  "
            ]
          },
          "metadata": {},
          "execution_count": 6
        }
      ]
    },
    {
      "cell_type": "code",
      "source": [
        "#필요열(변수, feature)만 뽑아서 데이터 만들기\n",
        "X = df[[\"방 개수\",\"지하철 거리\",\"공항 거리\",\"병원 거리\",\"기차 거리\",\"면적\"]]\n",
        "Y = df[\"월세 달러\"]\n",
        "\n",
        "#데이터 분할(train, test)\n",
        "X_train, X_test, Y_train, Y_test = train_test_split(X, Y, test_size = 0.3, random_state = 0)\n",
        "#위와 같이 데이터를 훈련 세트와 테스트 세트로 나누었던 이유는 새로운 데이터에 대해 모델이 얼마나 잘 일반화시키는지에 관하여 측정하기 위해서이다.\n",
        "\n",
        "#model 만들기\n",
        "model = KNeighborsRegressor()\n",
        "\n",
        "#교차검증\n",
        "#교차 검증이란 쉽게 말해 데이터를 여러 번 반복해서 나누고 여러 모델을 학습하여 성능을 평가하는 방법이다. \n",
        "#이렇게 하는 이유는 데이터를 학습용/평가용 데이터 세트로 여러 번 나눈 것의 평균적인 성능을 계산하면, 한 번 나누어서 학습하는 것에 비해 일반화된 성능을 얻을 수 있기 때문이다.\n",
        "score = cross_val_score(model, X_train, Y_train, cv = 10)\n",
        "print(\"교차검증 점수 :\", score)"
      ],
      "metadata": {
        "colab": {
          "base_uri": "https://localhost:8080/"
        },
        "id": "NYzrLzpGQniN",
        "outputId": "190876f1-e79c-40eb-b609-e7fea4357881"
      },
      "execution_count": 7,
      "outputs": [
        {
          "output_type": "stream",
          "name": "stdout",
          "text": [
            "교차검증 점수 : [0.74261434 0.76472113 0.71128239 0.77340243 0.74787383 0.71306076\n",
            " 0.80667381 0.79782332 0.76688748 0.7838882 ]\n"
          ]
        }
      ]
    },
    {
      "cell_type": "code",
      "source": [
        "df.columns"
      ],
      "metadata": {
        "colab": {
          "base_uri": "https://localhost:8080/"
        },
        "id": "lgn8rwXRrR96",
        "outputId": "9a7f1c2c-6d98-4a65-fca1-01076f847247"
      },
      "execution_count": 8,
      "outputs": [
        {
          "output_type": "execute_result",
          "data": {
            "text/plain": [
              "Index(['집 종류', '방 개수', '지하철 거리', '공항 거리', '병원 거리', '기차 거리', '면적', '월세 달러'], dtype='object')"
            ]
          },
          "metadata": {},
          "execution_count": 8
        }
      ]
    },
    {
      "cell_type": "code",
      "source": [
        "from sklearn.neighbors import KNeighborsClassifier\n",
        "from sklearn.model_selection import StratifiedKFold"
      ],
      "metadata": {
        "id": "dDOUtFC_QkeL"
      },
      "execution_count": 9,
      "outputs": []
    },
    {
      "cell_type": "code",
      "source": [
        "!sudo apt-get install -y fonts-nanum\n",
        "!sudo fc-cache -fv\n",
        "!rm ~/.cache/matplotlib -rf"
      ],
      "metadata": {
        "colab": {
          "base_uri": "https://localhost:8080/"
        },
        "id": "rBoaWjiCQSfa",
        "outputId": "682ee643-ea45-4ed7-f289-f59a2dd1e0d5"
      },
      "execution_count": 11,
      "outputs": [
        {
          "output_type": "stream",
          "name": "stdout",
          "text": [
            "Reading package lists... Done\n",
            "Building dependency tree       \n",
            "Reading state information... Done\n",
            "The following package was automatically installed and is no longer required:\n",
            "  libnvidia-common-460\n",
            "Use 'sudo apt autoremove' to remove it.\n",
            "The following NEW packages will be installed:\n",
            "  fonts-nanum\n",
            "0 upgraded, 1 newly installed, 0 to remove and 21 not upgraded.\n",
            "Need to get 9,604 kB of archives.\n",
            "After this operation, 29.5 MB of additional disk space will be used.\n",
            "Get:1 http://archive.ubuntu.com/ubuntu bionic/universe amd64 fonts-nanum all 20170925-1 [9,604 kB]\n",
            "Fetched 9,604 kB in 1s (6,522 kB/s)\n",
            "debconf: unable to initialize frontend: Dialog\n",
            "debconf: (No usable dialog-like program is installed, so the dialog based frontend cannot be used. at /usr/share/perl5/Debconf/FrontEnd/Dialog.pm line 76, <> line 1.)\n",
            "debconf: falling back to frontend: Readline\n",
            "debconf: unable to initialize frontend: Readline\n",
            "debconf: (This frontend requires a controlling tty.)\n",
            "debconf: falling back to frontend: Teletype\n",
            "dpkg-preconfigure: unable to re-open stdin: \n",
            "Selecting previously unselected package fonts-nanum.\n",
            "(Reading database ... 124016 files and directories currently installed.)\n",
            "Preparing to unpack .../fonts-nanum_20170925-1_all.deb ...\n",
            "Unpacking fonts-nanum (20170925-1) ...\n",
            "Setting up fonts-nanum (20170925-1) ...\n",
            "Processing triggers for fontconfig (2.12.6-0ubuntu2) ...\n",
            "/usr/share/fonts: caching, new cache contents: 0 fonts, 1 dirs\n",
            "/usr/share/fonts/truetype: caching, new cache contents: 0 fonts, 3 dirs\n",
            "/usr/share/fonts/truetype/humor-sans: caching, new cache contents: 1 fonts, 0 dirs\n",
            "/usr/share/fonts/truetype/liberation: caching, new cache contents: 16 fonts, 0 dirs\n",
            "/usr/share/fonts/truetype/nanum: caching, new cache contents: 10 fonts, 0 dirs\n",
            "/usr/local/share/fonts: caching, new cache contents: 0 fonts, 0 dirs\n",
            "/root/.local/share/fonts: skipping, no such directory\n",
            "/root/.fonts: skipping, no such directory\n",
            "/var/cache/fontconfig: cleaning cache directory\n",
            "/root/.cache/fontconfig: not cleaning non-existent cache directory\n",
            "/root/.fontconfig: not cleaning non-existent cache directory\n",
            "fc-cache: succeeded\n"
          ]
        }
      ]
    },
    {
      "cell_type": "code",
      "source": [
        "import matplotlib.pyplot as plt\n",
        "plt.rc('font', family=\"NanumBarunGothic\")"
      ],
      "metadata": {
        "id": "J1SPDBmDQVlD"
      },
      "execution_count": 10,
      "outputs": []
    },
    {
      "cell_type": "code",
      "source": [
        "import numpy as np\n",
        "import seaborn as sns\n",
        "\n",
        "df[\"월세달러\"] = np.log1p(df[\"월세 달러\"])\n",
        "sns.distplot(df[\"월세 달러\"])"
      ],
      "metadata": {
        "colab": {
          "base_uri": "https://localhost:8080/",
          "height": 353
        },
        "id": "QiNDa6u2PaoC",
        "outputId": "f0765e9a-c42c-46fc-ceb2-8026bf1215ed"
      },
      "execution_count": 11,
      "outputs": [
        {
          "output_type": "stream",
          "name": "stderr",
          "text": [
            "/usr/local/lib/python3.8/dist-packages/seaborn/distributions.py:2619: FutureWarning: `distplot` is a deprecated function and will be removed in a future version. Please adapt your code to use either `displot` (a figure-level function with similar flexibility) or `histplot` (an axes-level function for histograms).\n",
            "  warnings.warn(msg, FutureWarning)\n"
          ]
        },
        {
          "output_type": "execute_result",
          "data": {
            "text/plain": [
              "<matplotlib.axes._subplots.AxesSubplot at 0x7f85e501afa0>"
            ]
          },
          "metadata": {},
          "execution_count": 11
        },
        {
          "output_type": "display_data",
          "data": {
            "text/plain": [
              "<Figure size 432x288 with 1 Axes>"
            ],
            "image/png": "[encoded data removed]"
          },
          "metadata": {
            "needs_background": "light"
          }
        }
      ]
    },
    {
      "cell_type": "code",
      "source": [
        "from sklearn.model_selection import train_test_split\n",
        "from sklearn.compose import ColumnTransformer\n",
        "from sklearn.preprocessing import StandardScaler\n",
        "from sklearn.preprocessing import OneHotEncoder\n",
        "\n",
        "num = ['지하철 거리', '공항 거리', '병원 거리','기차 거리','면적']\n",
        "cg = ['집 종류','방 개수']\n",
        "\n",
        "X = df[num+cg]\n",
        "Y = df[\"월세 달러\"]\n",
        "\n",
        "X_train, X_test, Y_train, Y_test = train_test_split(X,Y,test_size=0.3, random_state=0)\n",
        "\n",
        "\n",
        "ct = ColumnTransformer([('scling', StandardScaler(),num),('onehot',OneHotEncoder(sparse = False), cg)])\n",
        "ct.fit(X_train)\n",
        "X_train = ct.transform(X_train)\n",
        "X_test = ct.transform(X_test)\n",
        "\n",
        "print(X_train)"
      ],
      "metadata": {
        "colab": {
          "base_uri": "https://localhost:8080/"
        },
        "id": "7cQ9zUaKSMUB",
        "outputId": "4ea06cbc-b4f0-4c80-bf8a-c08e041dd746"
      },
      "execution_count": 34,
      "outputs": [
        {
          "output_type": "stream",
          "name": "stdout",
          "text": [
            "[[-0.35173434  1.40638919 -0.39062455 ...  0.          0.\n",
            "   0.        ]\n",
            " [-0.40127669  0.72785946  1.51698094 ...  0.          0.\n",
            "   0.        ]\n",
            " [ 0.39138861  0.80533918  1.18923831 ...  0.          0.\n",
            "   0.        ]\n",
            " ...\n",
            " [ 0.15573659 -0.31382844 -0.03470384 ...  0.          0.\n",
            "   0.        ]\n",
            " [-0.47224337  0.17892095 -1.79030324 ...  0.          0.\n",
            "   0.        ]\n",
            " [-0.11439045  0.35175242 -1.59721902 ...  0.          0.\n",
            "   0.        ]]\n"
          ]
        }
      ]
    },
    {
      "cell_type": "markdown",
      "source": [
        "선형회귀"
      ],
      "metadata": {
        "id": "Ila-tolfe-j8"
      }
    },
    {
      "cell_type": "code",
      "source": [
        "from sklearn.linear_model import LinearRegression #LinearRegression : 선형모형\n",
        "from sklearn.metrics import mean_squared_error\n",
        "from math import sqrt #루트 - 제곱합이라서 너무커보이니 줄여주려고 루트를 씌워줌\n",
        "\n",
        "lr= LinearRegression().fit(X_train, Y_train)\n",
        "\n",
        "Y_pred = lr.predict(X_test)\n",
        "print(\"predict value\\n\", Y_pred)\n",
        "print(\"train R2 : {:.3f}\".format(lr.score(X_train,Y_train)))\n",
        "\n",
        "rmse = sqrt(mean_squared_error(Y_test,Y_pred))\n",
        "print(\"RMSE : {:.3f} \".format(rmse))"
      ],
      "metadata": {
        "colab": {
          "base_uri": "https://localhost:8080/"
        },
        "id": "AleOlzPwWJwT",
        "outputId": "009016e7-fd14-4981-cf11-b5b278cbc393"
      },
      "execution_count": 35,
      "outputs": [
        {
          "output_type": "stream",
          "name": "stdout",
          "text": [
            "predict value\n",
            " [143.61742072 192.08554143 487.04738192 ... 385.22072487 466.48917464\n",
            " 129.98168676]\n",
            "train R2 : 0.688\n",
            "RMSE : 206.283 \n"
          ]
        }
      ]
    },
    {
      "cell_type": "code",
      "source": [
        "df"
      ],
      "metadata": {
        "colab": {
          "base_uri": "https://localhost:8080/",
          "height": 424
        },
        "id": "fycJBo6NgeRD",
        "outputId": "3c73f5c4-b5ef-43c2-d180-3bbc9d699330"
      },
      "execution_count": 14,
      "outputs": [
        {
          "output_type": "execute_result",
          "data": {
            "text/plain": [
              "      집 종류  방 개수    지하철 거리      공항 거리      병원 거리      기차 거리      면적  월세 달러  \\\n",
              "0        3     3  0.312579  22.646032  11.726966   7.352495   83.61    307   \n",
              "1        1     1  2.486167  13.500583   7.527761  15.877066   83.61    110   \n",
              "2        1     3  1.528794  18.918243  17.135939  10.315737   78.97    369   \n",
              "3        1     3  0.967121  17.749252  16.251937   9.797817  162.58    676   \n",
              "4        3     4  0.834506   4.288189  15.541840  18.179806  218.32    418   \n",
              "...    ...   ...       ...        ...        ...        ...     ...    ...   \n",
              "8687     3     1  0.005681   7.776390  18.212199  19.535831   46.45    159   \n",
              "8688     3     1  0.007987  12.969368   9.442664   5.039023   81.29    172   \n",
              "8689     1     3  0.203502  17.094466   5.468956  11.109941  148.64    738   \n",
              "8690     1     1  0.248603  20.628700   9.801128   5.679541   41.90    184   \n",
              "8691     1     2  1.226364  18.275872  17.535608  11.251435   69.68    319   \n",
              "\n",
              "          월세달러  \n",
              "0     5.730100  \n",
              "1     4.709530  \n",
              "2     5.913503  \n",
              "3     6.517671  \n",
              "4     6.037871  \n",
              "...        ...  \n",
              "8687  5.075174  \n",
              "8688  5.153292  \n",
              "8689  6.605298  \n",
              "8690  5.220356  \n",
              "8691  5.768321  \n",
              "\n",
              "[8692 rows x 9 columns]"
            ],
            "text/html": [
              "\n",
              "  <div id=\"df-e3e28e97-fbe1-49f0-878b-271446d54c95\">\n",
              "    <div class=\"colab-df-container\">\n",
              "      <div>\n",
              "<style scoped>\n",
              "    .dataframe tbody tr th:only-of-type {\n",
              "        vertical-align: middle;\n",
              "    }\n",
              "\n",
              "    .dataframe tbody tr th {\n",
              "        vertical-align: top;\n",
              "    }\n",
              "\n",
              "    .dataframe thead th {\n",
              "        text-align: right;\n",
              "    }\n",
              "</style>\n",
              "<table border=\"1\" class=\"dataframe\">\n",
              "  <thead>\n",
              "    <tr style=\"text-align: right;\">\n",
              "      <th></th>\n",
              "      <th>집 종류</th>\n",
              "      <th>방 개수</th>\n",
              "      <th>지하철 거리</th>\n",
              "      <th>공항 거리</th>\n",
              "      <th>병원 거리</th>\n",
              "      <th>기차 거리</th>\n",
              "      <th>면적</th>\n",
              "      <th>월세 달러</th>\n",
              "      <th>월세달러</th>\n",
              "    </tr>\n",
              "  </thead>\n",
              "  <tbody>\n",
              "    <tr>\n",
              "      <th>0</th>\n",
              "      <td>3</td>\n",
              "      <td>3</td>\n",
              "      <td>0.312579</td>\n",
              "      <td>22.646032</td>\n",
              "      <td>11.726966</td>\n",
              "      <td>7.352495</td>\n",
              "      <td>83.61</td>\n",
              "      <td>307</td>\n",
              "      <td>5.730100</td>\n",
              "    </tr>\n",
              "    <tr>\n",
              "      <th>1</th>\n",
              "      <td>1</td>\n",
              "      <td>1</td>\n",
              "      <td>2.486167</td>\n",
              "      <td>13.500583</td>\n",
              "      <td>7.527761</td>\n",
              "      <td>15.877066</td>\n",
              "      <td>83.61</td>\n",
              "      <td>110</td>\n",
              "      <td>4.709530</td>\n",
              "    </tr>\n",
              "    <tr>\n",
              "      <th>2</th>\n",
              "      <td>1</td>\n",
              "      <td>3</td>\n",
              "      <td>1.528794</td>\n",
              "      <td>18.918243</td>\n",
              "      <td>17.135939</td>\n",
              "      <td>10.315737</td>\n",
              "      <td>78.97</td>\n",
              "      <td>369</td>\n",
              "      <td>5.913503</td>\n",
              "    </tr>\n",
              "    <tr>\n",
              "      <th>3</th>\n",
              "      <td>1</td>\n",
              "      <td>3</td>\n",
              "      <td>0.967121</td>\n",
              "      <td>17.749252</td>\n",
              "      <td>16.251937</td>\n",
              "      <td>9.797817</td>\n",
              "      <td>162.58</td>\n",
              "      <td>676</td>\n",
              "      <td>6.517671</td>\n",
              "    </tr>\n",
              "    <tr>\n",
              "      <th>4</th>\n",
              "      <td>3</td>\n",
              "      <td>4</td>\n",
              "      <td>0.834506</td>\n",
              "      <td>4.288189</td>\n",
              "      <td>15.541840</td>\n",
              "      <td>18.179806</td>\n",
              "      <td>218.32</td>\n",
              "      <td>418</td>\n",
              "      <td>6.037871</td>\n",
              "    </tr>\n",
              "    <tr>\n",
              "      <th>...</th>\n",
              "      <td>...</td>\n",
              "      <td>...</td>\n",
              "      <td>...</td>\n",
              "      <td>...</td>\n",
              "      <td>...</td>\n",
              "      <td>...</td>\n",
              "      <td>...</td>\n",
              "      <td>...</td>\n",
              "      <td>...</td>\n",
              "    </tr>\n",
              "    <tr>\n",
              "      <th>8687</th>\n",
              "      <td>3</td>\n",
              "      <td>1</td>\n",
              "      <td>0.005681</td>\n",
              "      <td>7.776390</td>\n",
              "      <td>18.212199</td>\n",
              "      <td>19.535831</td>\n",
              "      <td>46.45</td>\n",
              "      <td>159</td>\n",
              "      <td>5.075174</td>\n",
              "    </tr>\n",
              "    <tr>\n",
              "      <th>8688</th>\n",
              "      <td>3</td>\n",
              "      <td>1</td>\n",
              "      <td>0.007987</td>\n",
              "      <td>12.969368</td>\n",
              "      <td>9.442664</td>\n",
              "      <td>5.039023</td>\n",
              "      <td>81.29</td>\n",
              "      <td>172</td>\n",
              "      <td>5.153292</td>\n",
              "    </tr>\n",
              "    <tr>\n",
              "      <th>8689</th>\n",
              "      <td>1</td>\n",
              "      <td>3</td>\n",
              "      <td>0.203502</td>\n",
              "      <td>17.094466</td>\n",
              "      <td>5.468956</td>\n",
              "      <td>11.109941</td>\n",
              "      <td>148.64</td>\n",
              "      <td>738</td>\n",
              "      <td>6.605298</td>\n",
              "    </tr>\n",
              "    <tr>\n",
              "      <th>8690</th>\n",
              "      <td>1</td>\n",
              "      <td>1</td>\n",
              "      <td>0.248603</td>\n",
              "      <td>20.628700</td>\n",
              "      <td>9.801128</td>\n",
              "      <td>5.679541</td>\n",
              "      <td>41.90</td>\n",
              "      <td>184</td>\n",
              "      <td>5.220356</td>\n",
              "    </tr>\n",
              "    <tr>\n",
              "      <th>8691</th>\n",
              "      <td>1</td>\n",
              "      <td>2</td>\n",
              "      <td>1.226364</td>\n",
              "      <td>18.275872</td>\n",
              "      <td>17.535608</td>\n",
              "      <td>11.251435</td>\n",
              "      <td>69.68</td>\n",
              "      <td>319</td>\n",
              "      <td>5.768321</td>\n",
              "    </tr>\n",
              "  </tbody>\n",
              "</table>\n",
              "<p>8692 rows × 9 columns</p>\n",
              "</div>\n",
              "      <button class=\"colab-df-convert\" onclick=\"convertToInteractive('df-e3e28e97-fbe1-49f0-878b-271446d54c95')\"\n",
              "              title=\"Convert this dataframe to an interactive table.\"\n",
              "              style=\"display:none;\">\n",
              "        \n",
              "  <svg xmlns=\"http://www.w3.org/2000/svg\" height=\"24px\"viewBox=\"0 0 24 24\"\n",
              "       width=\"24px\">\n",
              "    <path d=\"M0 0h24v24H0V0z\" fill=\"none\"/>\n",
              "    <path d=\"M18.56 5.44l.94 2.06.94-2.06 2.06-.94-2.06-.94-.94-2.06-.94 2.06-2.06.94zm-11 1L8.5 8.5l.94-2.06 2.06-.94-2.06-.94L8.5 2.5l-.94 2.06-2.06.94zm10 10l.94 2.06.94-2.06 2.06-.94-2.06-.94-.94-2.06-.94 2.06-2.06.94z\"/><path d=\"M17.41 7.96l-1.37-1.37c-.4-.4-.92-.59-1.43-.59-.52 0-1.04.2-1.43.59L10.3 9.45l-7.72 7.72c-.78.78-.78 2.05 0 2.83L4 21.41c.39.39.9.59 1.41.59.51 0 1.02-.2 1.41-.59l7.78-7.78 2.81-2.81c.8-.78.8-2.07 0-2.86zM5.41 20L4 18.59l7.72-7.72 1.47 1.35L5.41 20z\"/>\n",
              "  </svg>\n",
              "      </button>\n",
              "      \n",
              "  <style>\n",
              "    .colab-df-container {\n",
              "      display:flex;\n",
              "      flex-wrap:wrap;\n",
              "      gap: 12px;\n",
              "    }\n",
              "\n",
              "    .colab-df-convert {\n",
              "      background-color: #E8F0FE;\n",
              "      border: none;\n",
              "      border-radius: 50%;\n",
              "      cursor: pointer;\n",
              "      display: none;\n",
              "      fill: #1967D2;\n",
              "      height: 32px;\n",
              "      padding: 0 0 0 0;\n",
              "      width: 32px;\n",
              "    }\n",
              "\n",
              "    .colab-df-convert:hover {\n",
              "      background-color: #E2EBFA;\n",
              "      box-shadow: 0px 1px 2px rgba(60, 64, 67, 0.3), 0px 1px 3px 1px rgba(60, 64, 67, 0.15);\n",
              "      fill: #174EA6;\n",
              "    }\n",
              "\n",
              "    [theme=dark] .colab-df-convert {\n",
              "      background-color: #3B4455;\n",
              "      fill: #D2E3FC;\n",
              "    }\n",
              "\n",
              "    [theme=dark] .colab-df-convert:hover {\n",
              "      background-color: #434B5C;\n",
              "      box-shadow: 0px 1px 3px 1px rgba(0, 0, 0, 0.15);\n",
              "      filter: drop-shadow(0px 1px 2px rgba(0, 0, 0, 0.3));\n",
              "      fill: #FFFFFF;\n",
              "    }\n",
              "  </style>\n",
              "\n",
              "      <script>\n",
              "        const buttonEl =\n",
              "          document.querySelector('#df-e3e28e97-fbe1-49f0-878b-271446d54c95 button.colab-df-convert');\n",
              "        buttonEl.style.display =\n",
              "          google.colab.kernel.accessAllowed ? 'block' : 'none';\n",
              "\n",
              "        async function convertToInteractive(key) {\n",
              "          const element = document.querySelector('#df-e3e28e97-fbe1-49f0-878b-271446d54c95');\n",
              "          const dataTable =\n",
              "            await google.colab.kernel.invokeFunction('convertToInteractive',\n",
              "                                                     [key], {});\n",
              "          if (!dataTable) return;\n",
              "\n",
              "          const docLinkHtml = 'Like what you see? Visit the ' +\n",
              "            '<a target=\"_blank\" href=https://colab.research.google.com/notebooks/data_table.ipynb>data table notebook</a>'\n",
              "            + ' to learn more about interactive tables.';\n",
              "          element.innerHTML = '';\n",
              "          dataTable['output_type'] = 'display_data';\n",
              "          await google.colab.output.renderOutput(dataTable, element);\n",
              "          const docLink = document.createElement('div');\n",
              "          docLink.innerHTML = docLinkHtml;\n",
              "          element.appendChild(docLink);\n",
              "        }\n",
              "      </script>\n",
              "    </div>\n",
              "  </div>\n",
              "  "
            ]
          },
          "metadata": {},
          "execution_count": 14
        }
      ]
    },
    {
      "cell_type": "markdown",
      "source": [
        "knn"
      ],
      "metadata": {
        "id": "Vi7X2yaMe53-"
      }
    },
    {
      "cell_type": "code",
      "source": [
        "import numpy as np\n",
        "\n",
        "X = df[['지하철 거리', '공항 거리', '병원 거리', '기차 거리', '면적','방 개수','집 종류']]\n",
        "Y = df[\"월세 달러\"]\n",
        "Y = np.log1p(Y)\n",
        "\n",
        "X_train, X_test, Y_train, Y_test = train_test_split(X, Y, test_size = 0.3, random_state = 0)\n",
        "\n",
        "scaler = StandardScaler().fit(X_train, Y_train)\n",
        "X_test = scaler.transform(X_test)\n",
        "X_train = scaler.transform(X_train)\n",
        "\n",
        "from sklearn.neighbors import KNeighborsRegressor\n",
        "knn_reg = KNeighborsRegressor(n_neighbors = 9, p=2)\n",
        "#p : int, default=2\n",
        "#power parameter for the minkowski metric. when p =1\n",
        "#this is equivalent to using manhattan_distance(l1), and euclidean_distance(l2) for p=2, For arbitary p,minkowski distance\n",
        "# 1은 맨하탄 2는 유클리디안 \n",
        "\n",
        "knn_reg.fit(X_train,Y_train)\n",
        "Y_pred = knn_reg.predict(X_test)\n",
        "print(\"accuracy: {:.3f}\".format(knn_reg.score(X_train,Y_train)))\n",
        "rmse = sqrt(mean_squared_error(Y_test,Y_pred))\n",
        "print(\"RMSE {:.3f}\".format(rmse))"
      ],
      "metadata": {
        "colab": {
          "base_uri": "https://localhost:8080/"
        },
        "id": "gnq7I8iZdfWi",
        "outputId": "de34ba0a-f6b5-4ee0-f970-acb52a6adc61"
      },
      "execution_count": 15,
      "outputs": [
        {
          "output_type": "stream",
          "name": "stdout",
          "text": [
            "accuracy: 0.849\n",
            "RMSE 0.281\n"
          ]
        }
      ]
    },
    {
      "cell_type": "markdown",
      "source": [
        "의사결정나무"
      ],
      "metadata": {
        "id": "TYTH8zz8ldyc"
      }
    },
    {
      "cell_type": "code",
      "source": [
        "X = df[['지하철 거리', '공항 거리', '병원 거리', '기차 거리', '면적','방 개수','집 종류']]\n",
        "Y = df[\"월세 달러\"]\n",
        "\n",
        "X_train, X_test, Y_train, Y_test = train_test_split(X, Y, test_size = 0.3, random_state = 0)\n",
        "\n",
        "from sklearn.tree import DecisionTreeRegressor\n",
        "\n",
        "DT_model_reg = DecisionTreeRegressor(random_state=0,max_depth=5)\n",
        "DT_model_reg.fit(X_train,Y_train)\n",
        "Y_pred = DT_model_reg.predict(X_test)\n",
        "print(\"accuracy : {:.3f}\".format(DT_model_reg.score(X_train,Y_train)))\n",
        "rmse = sqrt(mean_squared_error(Y_test,Y_pred))\n",
        "print(\"rmse : {:.3f}\".format(rmse))"
      ],
      "metadata": {
        "colab": {
          "base_uri": "https://localhost:8080/"
        },
        "id": "jeykPtv8i_rz",
        "outputId": "c91f5a4c-5fc6-4a5e-9a89-648c967c809f"
      },
      "execution_count": 16,
      "outputs": [
        {
          "output_type": "stream",
          "name": "stdout",
          "text": [
            "accuracy : 0.778\n",
            "rmse : 119.321\n"
          ]
        }
      ]
    },
    {
      "cell_type": "code",
      "source": [
        "feature_name = X.columns\n",
        "\n",
        "feature_importance = DT_model_reg.feature_importances_\n",
        "sorted(zip(feature_importance,feature_name),reverse = True)"
      ],
      "metadata": {
        "colab": {
          "base_uri": "https://localhost:8080/"
        },
        "id": "SvFu_2x0kwuZ",
        "outputId": "dd8520fc-9783-4ba4-dfde-d1eff48a1850"
      },
      "execution_count": 17,
      "outputs": [
        {
          "output_type": "execute_result",
          "data": {
            "text/plain": [
              "[(0.7174128330590888, '면적'),\n",
              " (0.20319884680633554, '병원 거리'),\n",
              " (0.059503118254737745, '기차 거리'),\n",
              " (0.01988520187983793, '방 개수'),\n",
              " (0.0, '집 종류'),\n",
              " (0.0, '지하철 거리'),\n",
              " (0.0, '공항 거리')]"
            ]
          },
          "metadata": {},
          "execution_count": 17
        }
      ]
    },
    {
      "cell_type": "code",
      "source": [
        "from sklearn.tree import export_graphviz\n",
        "import graphviz\n",
        "\n",
        "#파일생성\n",
        "export_graphviz(DT_model_reg, out_file = \"tree.dot\", feature_names = feature_name, impurity = True, filled = True)\n",
        "\n",
        "#파일열기\n",
        "\n",
        "with open(\"tree.dot\",encoding=\"utf-8\") as f:\n",
        "    dot_graph = f.read()\n",
        "graphviz.Source(dot_graph)"
      ],
      "metadata": {
        "colab": {
          "base_uri": "https://localhost:8080/",
          "height": 815
        },
        "id": "7zaf6-eljXC2",
        "outputId": "fc6d673a-4c86-498b-b4fc-0e1a13842196"
      },
      "execution_count": 18,
      "outputs": [
        {
          "output_type": "execute_result",
          "data": {
            "text/plain": [
              "<graphviz.files.Source at 0x7f85f86a5ee0>"
            ],
            "image/svg+xml": "<?xml version=\"1.0\" encoding=\"UTF-8\" standalone=\"no\"?>\n<!DOCTYPE svg PUBLIC \"-//W3C//DTD SVG 1.1//EN\"\n \"http://www.w3.org/Graphics/SVG/1.1/DTD/svg11.dtd\">\n<!-- Generated by graphviz version 2.40.1 (20161225.0304)\n -->\n<!-- Title: Tree Pages: 1 -->\n<svg width=\"6469pt\" height=\"581pt\"\n viewBox=\"0.00 0.00 6469.00 581.00\" xmlns=\"http://www.w3.org/2000/svg\" xmlns:xlink=\"http://www.w3.org/1999/xlink\">\n<g id=\"graph0\" class=\"graph\" transform=\"scale(1 1) rotate(0) translate(4 577)\">\n<title>Tree</title>\n<polygon fill=\"#ffffff\" stroke=\"transparent\" points=\"-4,4 -4,-577 6465,-577 6465,4 -4,4\"/>\n<!-- 0 -->\n<g id=\"node1\" class=\"node\">\n<title>0</title>\n<polygon fill=\"#fbe9dd\" stroke=\"#000000\" points=\"3683,-573 3489,-573 3489,-505 3683,-505 3683,-573\"/>\n<text text-anchor=\"middle\" x=\"3586\" y=\"-557.8\" font-family=\"Helvetica,sans-Serif\" font-size=\"14.00\" fill=\"#000000\">면적 &lt;= 124.025</text>\n<text text-anchor=\"middle\" x=\"3586\" y=\"-542.8\" font-family=\"Helvetica,sans-Serif\" font-size=\"14.00\" fill=\"#000000\">squared_error = 52448.913</text>\n<text text-anchor=\"middle\" x=\"3586\" y=\"-527.8\" font-family=\"Helvetica,sans-Serif\" font-size=\"14.00\" fill=\"#000000\">samples = 6084</text>\n<text text-anchor=\"middle\" x=\"3586\" y=\"-512.8\" font-family=\"Helvetica,sans-Serif\" font-size=\"14.00\" fill=\"#000000\">value = 320.507</text>\n</g>\n<!-- 1 -->\n<g id=\"node2\" class=\"node\">\n<title>1</title>\n<polygon fill=\"#fdf5f0\" stroke=\"#000000\" points=\"2550,-469 2356,-469 2356,-401 2550,-401 2550,-469\"/>\n<text text-anchor=\"middle\" x=\"2453\" y=\"-453.8\" font-family=\"Helvetica,sans-Serif\" font-size=\"14.00\" fill=\"#000000\">면적 &lt;= 81.525</text>\n<text text-anchor=\"middle\" x=\"2453\" y=\"-438.8\" font-family=\"Helvetica,sans-Serif\" font-size=\"14.00\" fill=\"#000000\">squared_error = 12868.378</text>\n<text text-anchor=\"middle\" x=\"2453\" y=\"-423.8\" font-family=\"Helvetica,sans-Serif\" font-size=\"14.00\" fill=\"#000000\">samples = 4165</text>\n<text text-anchor=\"middle\" x=\"2453\" y=\"-408.8\" font-family=\"Helvetica,sans-Serif\" font-size=\"14.00\" fill=\"#000000\">value = 218.497</text>\n</g>\n<!-- 0&#45;&gt;1 -->\n<g id=\"edge1\" class=\"edge\">\n<title>0&#45;&gt;1</title>\n<path fill=\"none\" stroke=\"#000000\" d=\"M3488.9113,-530.0881C3278.143,-510.7413 2780.0139,-465.0172 2560.2998,-444.8492\"/>\n<polygon fill=\"#000000\" stroke=\"#000000\" points=\"2560.328,-441.3372 2550.05,-443.9084 2559.6881,-448.3079 2560.328,-441.3372\"/>\n<text text-anchor=\"middle\" x=\"2566.0377\" y=\"-459.4279\" font-family=\"Helvetica,sans-Serif\" font-size=\"14.00\" fill=\"#000000\">True</text>\n</g>\n<!-- 32 -->\n<g id=\"node33\" class=\"node\">\n<title>32</title>\n<polygon fill=\"#f5d0b5\" stroke=\"#000000\" points=\"3996,-469 3802,-469 3802,-401 3996,-401 3996,-469\"/>\n<text text-anchor=\"middle\" x=\"3899\" y=\"-453.8\" font-family=\"Helvetica,sans-Serif\" font-size=\"14.00\" fill=\"#000000\">병원 거리 &lt;= 5.609</text>\n<text text-anchor=\"middle\" x=\"3899\" y=\"-438.8\" font-family=\"Helvetica,sans-Serif\" font-size=\"14.00\" fill=\"#000000\">squared_error = 66749.591</text>\n<text text-anchor=\"middle\" x=\"3899\" y=\"-423.8\" font-family=\"Helvetica,sans-Serif\" font-size=\"14.00\" fill=\"#000000\">samples = 1919</text>\n<text text-anchor=\"middle\" x=\"3899\" y=\"-408.8\" font-family=\"Helvetica,sans-Serif\" font-size=\"14.00\" fill=\"#000000\">value = 541.911</text>\n</g>\n<!-- 0&#45;&gt;32 -->\n<g id=\"edge32\" class=\"edge\">\n<title>0&#45;&gt;32</title>\n<path fill=\"none\" stroke=\"#000000\" d=\"M3683.3194,-506.6638C3717.7667,-495.2181 3756.7001,-482.2818 3791.9141,-470.5813\"/>\n<polygon fill=\"#000000\" stroke=\"#000000\" points=\"3793.3545,-473.7909 3801.7408,-467.3162 3791.1473,-467.148 3793.3545,-473.7909\"/>\n<text text-anchor=\"middle\" x=\"3790.539\" y=\"-485.9661\" font-family=\"Helvetica,sans-Serif\" font-size=\"14.00\" fill=\"#000000\">False</text>\n</g>\n<!-- 2 -->\n<g id=\"node3\" class=\"node\">\n<title>2</title>\n<polygon fill=\"#fefbf8\" stroke=\"#000000\" points=\"1222.5,-365 1037.5,-365 1037.5,-297 1222.5,-297 1222.5,-365\"/>\n<text text-anchor=\"middle\" x=\"1130\" y=\"-349.8\" font-family=\"Helvetica,sans-Serif\" font-size=\"14.00\" fill=\"#000000\">면적 &lt;= 55.14</text>\n<text text-anchor=\"middle\" x=\"1130\" y=\"-334.8\" font-family=\"Helvetica,sans-Serif\" font-size=\"14.00\" fill=\"#000000\">squared_error = 7386.053</text>\n<text text-anchor=\"middle\" x=\"1130\" y=\"-319.8\" font-family=\"Helvetica,sans-Serif\" font-size=\"14.00\" fill=\"#000000\">samples = 2569</text>\n<text text-anchor=\"middle\" x=\"1130\" y=\"-304.8\" font-family=\"Helvetica,sans-Serif\" font-size=\"14.00\" fill=\"#000000\">value = 171.789</text>\n</g>\n<!-- 1&#45;&gt;2 -->\n<g id=\"edge2\" class=\"edge\">\n<title>1&#45;&gt;2</title>\n<path fill=\"none\" stroke=\"#000000\" d=\"M2355.9848,-427.3737C2113.2633,-408.2936 1481.4246,-358.6252 1232.7232,-339.075\"/>\n<polygon fill=\"#000000\" stroke=\"#000000\" points=\"1232.8477,-335.5741 1222.6041,-338.2795 1232.299,-342.5525 1232.8477,-335.5741\"/>\n</g>\n<!-- 17 -->\n<g id=\"node18\" class=\"node\">\n<title>17</title>\n<polygon fill=\"#fbede2\" stroke=\"#000000\" points=\"2550,-365 2356,-365 2356,-297 2550,-297 2550,-365\"/>\n<text text-anchor=\"middle\" x=\"2453\" y=\"-349.8\" font-family=\"Helvetica,sans-Serif\" font-size=\"14.00\" fill=\"#000000\">기차 거리 &lt;= 12.852</text>\n<text text-anchor=\"middle\" x=\"2453\" y=\"-334.8\" font-family=\"Helvetica,sans-Serif\" font-size=\"14.00\" fill=\"#000000\">squared_error = 12528.931</text>\n<text text-anchor=\"middle\" x=\"2453\" y=\"-319.8\" font-family=\"Helvetica,sans-Serif\" font-size=\"14.00\" fill=\"#000000\">samples = 1596</text>\n<text text-anchor=\"middle\" x=\"2453\" y=\"-304.8\" font-family=\"Helvetica,sans-Serif\" font-size=\"14.00\" fill=\"#000000\">value = 293.68</text>\n</g>\n<!-- 1&#45;&gt;17 -->\n<g id=\"edge17\" class=\"edge\">\n<title>1&#45;&gt;17</title>\n<path fill=\"none\" stroke=\"#000000\" d=\"M2453,-400.9465C2453,-392.776 2453,-383.9318 2453,-375.3697\"/>\n<polygon fill=\"#000000\" stroke=\"#000000\" points=\"2456.5001,-375.13 2453,-365.13 2449.5001,-375.13 2456.5001,-375.13\"/>\n</g>\n<!-- 3 -->\n<g id=\"node4\" class=\"node\">\n<title>3</title>\n<polygon fill=\"#fffefd\" stroke=\"#000000\" points=\"664.5,-261 487.5,-261 487.5,-193 664.5,-193 664.5,-261\"/>\n<text text-anchor=\"middle\" x=\"576\" y=\"-245.8\" font-family=\"Helvetica,sans-Serif\" font-size=\"14.00\" fill=\"#000000\">방 개수 &lt;= 3.5</text>\n<text text-anchor=\"middle\" x=\"576\" y=\"-230.8\" font-family=\"Helvetica,sans-Serif\" font-size=\"14.00\" fill=\"#000000\">squared_error = 5348.26</text>\n<text text-anchor=\"middle\" x=\"576\" y=\"-215.8\" font-family=\"Helvetica,sans-Serif\" font-size=\"14.00\" fill=\"#000000\">samples = 1336</text>\n<text text-anchor=\"middle\" x=\"576\" y=\"-200.8\" font-family=\"Helvetica,sans-Serif\" font-size=\"14.00\" fill=\"#000000\">value = 144.041</text>\n</g>\n<!-- 2&#45;&gt;3 -->\n<g id=\"edge3\" class=\"edge\">\n<title>2&#45;&gt;3</title>\n<path fill=\"none\" stroke=\"#000000\" d=\"M1037.2729,-313.5927C936.9618,-294.7618 777.6455,-264.854 674.9654,-245.5783\"/>\n<polygon fill=\"#000000\" stroke=\"#000000\" points=\"675.3745,-242.0941 664.9004,-243.6889 674.0829,-248.9739 675.3745,-242.0941\"/>\n</g>\n<!-- 10 -->\n<g id=\"node11\" class=\"node\">\n<title>10</title>\n<polygon fill=\"#fdf7f3\" stroke=\"#000000\" points=\"1222.5,-261 1037.5,-261 1037.5,-193 1222.5,-193 1222.5,-261\"/>\n<text text-anchor=\"middle\" x=\"1130\" y=\"-245.8\" font-family=\"Helvetica,sans-Serif\" font-size=\"14.00\" fill=\"#000000\">병원 거리 &lt;= 5.46</text>\n<text text-anchor=\"middle\" x=\"1130\" y=\"-230.8\" font-family=\"Helvetica,sans-Serif\" font-size=\"14.00\" fill=\"#000000\">squared_error = 7855.814</text>\n<text text-anchor=\"middle\" x=\"1130\" y=\"-215.8\" font-family=\"Helvetica,sans-Serif\" font-size=\"14.00\" fill=\"#000000\">samples = 1233</text>\n<text text-anchor=\"middle\" x=\"1130\" y=\"-200.8\" font-family=\"Helvetica,sans-Serif\" font-size=\"14.00\" fill=\"#000000\">value = 201.856</text>\n</g>\n<!-- 2&#45;&gt;10 -->\n<g id=\"edge10\" class=\"edge\">\n<title>2&#45;&gt;10</title>\n<path fill=\"none\" stroke=\"#000000\" d=\"M1130,-296.9465C1130,-288.776 1130,-279.9318 1130,-271.3697\"/>\n<polygon fill=\"#000000\" stroke=\"#000000\" points=\"1133.5001,-271.13 1130,-261.13 1126.5001,-271.13 1133.5001,-271.13\"/>\n</g>\n<!-- 4 -->\n<g id=\"node5\" class=\"node\">\n<title>4</title>\n<polygon fill=\"#fffefd\" stroke=\"#000000\" points=\"396.5,-157 211.5,-157 211.5,-89 396.5,-89 396.5,-157\"/>\n<text text-anchor=\"middle\" x=\"304\" y=\"-141.8\" font-family=\"Helvetica,sans-Serif\" font-size=\"14.00\" fill=\"#000000\">병원 거리 &lt;= 5.52</text>\n<text text-anchor=\"middle\" x=\"304\" y=\"-126.8\" font-family=\"Helvetica,sans-Serif\" font-size=\"14.00\" fill=\"#000000\">squared_error = 4504.571</text>\n<text text-anchor=\"middle\" x=\"304\" y=\"-111.8\" font-family=\"Helvetica,sans-Serif\" font-size=\"14.00\" fill=\"#000000\">samples = 1334</text>\n<text text-anchor=\"middle\" x=\"304\" y=\"-96.8\" font-family=\"Helvetica,sans-Serif\" font-size=\"14.00\" fill=\"#000000\">value = 142.921</text>\n</g>\n<!-- 3&#45;&gt;4 -->\n<g id=\"edge4\" class=\"edge\">\n<title>3&#45;&gt;4</title>\n<path fill=\"none\" stroke=\"#000000\" d=\"M487.3134,-193.0904C460.2711,-182.7507 430.3777,-171.3209 402.7147,-160.7439\"/>\n<polygon fill=\"#000000\" stroke=\"#000000\" points=\"403.6219,-157.3437 393.0313,-157.0414 401.1219,-163.882 403.6219,-157.3437\"/>\n</g>\n<!-- 7 -->\n<g id=\"node8\" class=\"node\">\n<title>7</title>\n<polygon fill=\"#eda775\" stroke=\"#000000\" points=\"664.5,-157 487.5,-157 487.5,-89 664.5,-89 664.5,-157\"/>\n<text text-anchor=\"middle\" x=\"576\" y=\"-141.8\" font-family=\"Helvetica,sans-Serif\" font-size=\"14.00\" fill=\"#000000\">기차 거리 &lt;= 9.617</text>\n<text text-anchor=\"middle\" x=\"576\" y=\"-126.8\" font-family=\"Helvetica,sans-Serif\" font-size=\"14.00\" fill=\"#000000\">squared_error = 8556.25</text>\n<text text-anchor=\"middle\" x=\"576\" y=\"-111.8\" font-family=\"Helvetica,sans-Serif\" font-size=\"14.00\" fill=\"#000000\">samples = 2</text>\n<text text-anchor=\"middle\" x=\"576\" y=\"-96.8\" font-family=\"Helvetica,sans-Serif\" font-size=\"14.00\" fill=\"#000000\">value = 891.5</text>\n</g>\n<!-- 3&#45;&gt;7 -->\n<g id=\"edge7\" class=\"edge\">\n<title>3&#45;&gt;7</title>\n<path fill=\"none\" stroke=\"#000000\" d=\"M576,-192.9465C576,-184.776 576,-175.9318 576,-167.3697\"/>\n<polygon fill=\"#000000\" stroke=\"#000000\" points=\"579.5001,-167.13 576,-157.13 572.5001,-167.13 579.5001,-167.13\"/>\n</g>\n<!-- 5 -->\n<g id=\"node6\" class=\"node\">\n<title>5</title>\n<polygon fill=\"#fdf7f3\" stroke=\"#000000\" points=\"194,-53 0,-53 0,0 194,0 194,-53\"/>\n<text text-anchor=\"middle\" x=\"97\" y=\"-37.8\" font-family=\"Helvetica,sans-Serif\" font-size=\"14.00\" fill=\"#000000\">squared_error = 15411.687</text>\n<text text-anchor=\"middle\" x=\"97\" y=\"-22.8\" font-family=\"Helvetica,sans-Serif\" font-size=\"14.00\" fill=\"#000000\">samples = 168</text>\n<text text-anchor=\"middle\" x=\"97\" y=\"-7.8\" font-family=\"Helvetica,sans-Serif\" font-size=\"14.00\" fill=\"#000000\">value = 200.625</text>\n</g>\n<!-- 4&#45;&gt;5 -->\n<g id=\"edge5\" class=\"edge\">\n<title>4&#45;&gt;5</title>\n<path fill=\"none\" stroke=\"#000000\" d=\"M231.0195,-88.9777C208.9182,-78.6744 184.7778,-67.4205 163.1502,-57.3381\"/>\n<polygon fill=\"#000000\" stroke=\"#000000\" points=\"164.5908,-54.1481 154.0484,-53.095 161.6331,-60.4926 164.5908,-54.1481\"/>\n</g>\n<!-- 6 -->\n<g id=\"node7\" class=\"node\">\n<title>6</title>\n<polygon fill=\"#ffffff\" stroke=\"#000000\" points=\"396.5,-53 211.5,-53 211.5,0 396.5,0 396.5,-53\"/>\n<text text-anchor=\"middle\" x=\"304\" y=\"-37.8\" font-family=\"Helvetica,sans-Serif\" font-size=\"14.00\" fill=\"#000000\">squared_error = 2384.156</text>\n<text text-anchor=\"middle\" x=\"304\" y=\"-22.8\" font-family=\"Helvetica,sans-Serif\" font-size=\"14.00\" fill=\"#000000\">samples = 1166</text>\n<text text-anchor=\"middle\" x=\"304\" y=\"-7.8\" font-family=\"Helvetica,sans-Serif\" font-size=\"14.00\" fill=\"#000000\">value = 134.606</text>\n</g>\n<!-- 4&#45;&gt;6 -->\n<g id=\"edge6\" class=\"edge\">\n<title>4&#45;&gt;6</title>\n<path fill=\"none\" stroke=\"#000000\" d=\"M304,-88.9777C304,-80.7364 304,-71.887 304,-63.5153\"/>\n<polygon fill=\"#000000\" stroke=\"#000000\" points=\"307.5001,-63.2484 304,-53.2485 300.5001,-63.2485 307.5001,-63.2484\"/>\n</g>\n<!-- 8 -->\n<g id=\"node9\" class=\"node\">\n<title>8</title>\n<polygon fill=\"#eb9c64\" stroke=\"#000000\" points=\"559,-53 415,-53 415,0 559,0 559,-53\"/>\n<text text-anchor=\"middle\" x=\"487\" y=\"-37.8\" font-family=\"Helvetica,sans-Serif\" font-size=\"14.00\" fill=\"#000000\">squared_error = 0.0</text>\n<text text-anchor=\"middle\" x=\"487\" y=\"-22.8\" font-family=\"Helvetica,sans-Serif\" font-size=\"14.00\" fill=\"#000000\">samples = 1</text>\n<text text-anchor=\"middle\" x=\"487\" y=\"-7.8\" font-family=\"Helvetica,sans-Serif\" font-size=\"14.00\" fill=\"#000000\">value = 984.0</text>\n</g>\n<!-- 7&#45;&gt;8 -->\n<g id=\"edge8\" class=\"edge\">\n<title>7&#45;&gt;8</title>\n<path fill=\"none\" stroke=\"#000000\" d=\"M544.6219,-88.9777C536.1766,-79.8207 527.0389,-69.9129 518.5825,-60.744\"/>\n<polygon fill=\"#000000\" stroke=\"#000000\" points=\"521.0221,-58.2266 511.6696,-53.2485 515.8764,-62.9723 521.0221,-58.2266\"/>\n</g>\n<!-- 9 -->\n<g id=\"node10\" class=\"node\">\n<title>9</title>\n<polygon fill=\"#efb286\" stroke=\"#000000\" points=\"721,-53 577,-53 577,0 721,0 721,-53\"/>\n<text text-anchor=\"middle\" x=\"649\" y=\"-37.8\" font-family=\"Helvetica,sans-Serif\" font-size=\"14.00\" fill=\"#000000\">squared_error = 0.0</text>\n<text text-anchor=\"middle\" x=\"649\" y=\"-22.8\" font-family=\"Helvetica,sans-Serif\" font-size=\"14.00\" fill=\"#000000\">samples = 1</text>\n<text text-anchor=\"middle\" x=\"649\" y=\"-7.8\" font-family=\"Helvetica,sans-Serif\" font-size=\"14.00\" fill=\"#000000\">value = 799.0</text>\n</g>\n<!-- 7&#45;&gt;9 -->\n<g id=\"edge9\" class=\"edge\">\n<title>7&#45;&gt;9</title>\n<path fill=\"none\" stroke=\"#000000\" d=\"M601.7371,-88.9777C608.5256,-80.0039 615.8596,-70.3089 622.6784,-61.295\"/>\n<polygon fill=\"#000000\" stroke=\"#000000\" points=\"625.5237,-63.3352 628.7654,-53.2485 619.941,-59.1121 625.5237,-63.3352\"/>\n</g>\n<!-- 11 -->\n<g id=\"node12\" class=\"node\">\n<title>11</title>\n<polygon fill=\"#fbeee4\" stroke=\"#000000\" points=\"1124,-157 930,-157 930,-89 1124,-89 1124,-157\"/>\n<text text-anchor=\"middle\" x=\"1027\" y=\"-141.8\" font-family=\"Helvetica,sans-Serif\" font-size=\"14.00\" fill=\"#000000\">병원 거리 &lt;= 5.381</text>\n<text text-anchor=\"middle\" x=\"1027\" y=\"-126.8\" font-family=\"Helvetica,sans-Serif\" font-size=\"14.00\" fill=\"#000000\">squared_error = 24401.018</text>\n<text text-anchor=\"middle\" x=\"1027\" y=\"-111.8\" font-family=\"Helvetica,sans-Serif\" font-size=\"14.00\" fill=\"#000000\">samples = 82</text>\n<text text-anchor=\"middle\" x=\"1027\" y=\"-96.8\" font-family=\"Helvetica,sans-Serif\" font-size=\"14.00\" fill=\"#000000\">value = 280.793</text>\n</g>\n<!-- 10&#45;&gt;11 -->\n<g id=\"edge11\" class=\"edge\">\n<title>10&#45;&gt;11</title>\n<path fill=\"none\" stroke=\"#000000\" d=\"M1096.2739,-192.9465C1087.2039,-183.7884 1077.2955,-173.7838 1067.8819,-164.2788\"/>\n<polygon fill=\"#000000\" stroke=\"#000000\" points=\"1070.3255,-161.7723 1060.8018,-157.13 1065.3519,-166.6981 1070.3255,-161.7723\"/>\n</g>\n<!-- 14 -->\n<g id=\"node15\" class=\"node\">\n<title>14</title>\n<polygon fill=\"#fef8f4\" stroke=\"#000000\" points=\"1326.5,-157 1141.5,-157 1141.5,-89 1326.5,-89 1326.5,-157\"/>\n<text text-anchor=\"middle\" x=\"1234\" y=\"-141.8\" font-family=\"Helvetica,sans-Serif\" font-size=\"14.00\" fill=\"#000000\">기차 거리 &lt;= 14.874</text>\n<text text-anchor=\"middle\" x=\"1234\" y=\"-126.8\" font-family=\"Helvetica,sans-Serif\" font-size=\"14.00\" fill=\"#000000\">squared_error = 6201.553</text>\n<text text-anchor=\"middle\" x=\"1234\" y=\"-111.8\" font-family=\"Helvetica,sans-Serif\" font-size=\"14.00\" fill=\"#000000\">samples = 1151</text>\n<text text-anchor=\"middle\" x=\"1234\" y=\"-96.8\" font-family=\"Helvetica,sans-Serif\" font-size=\"14.00\" fill=\"#000000\">value = 196.232</text>\n</g>\n<!-- 10&#45;&gt;14 -->\n<g id=\"edge14\" class=\"edge\">\n<title>10&#45;&gt;14</title>\n<path fill=\"none\" stroke=\"#000000\" d=\"M1164.0535,-192.9465C1173.2116,-183.7884 1183.2162,-173.7838 1192.7212,-164.2788\"/>\n<polygon fill=\"#000000\" stroke=\"#000000\" points=\"1195.2738,-166.676 1199.87,-157.13 1190.324,-161.7262 1195.2738,-166.676\"/>\n</g>\n<!-- 12 -->\n<g id=\"node13\" class=\"node\">\n<title>12</title>\n<polygon fill=\"#fcf0e8\" stroke=\"#000000\" points=\"933,-53 739,-53 739,0 933,0 933,-53\"/>\n<text text-anchor=\"middle\" x=\"836\" y=\"-37.8\" font-family=\"Helvetica,sans-Serif\" font-size=\"14.00\" fill=\"#000000\">squared_error = 11193.173</text>\n<text text-anchor=\"middle\" x=\"836\" y=\"-22.8\" font-family=\"Helvetica,sans-Serif\" font-size=\"14.00\" fill=\"#000000\">samples = 80</text>\n<text text-anchor=\"middle\" x=\"836\" y=\"-7.8\" font-family=\"Helvetica,sans-Serif\" font-size=\"14.00\" fill=\"#000000\">value = 262.45</text>\n</g>\n<!-- 11&#45;&gt;12 -->\n<g id=\"edge12\" class=\"edge\">\n<title>11&#45;&gt;12</title>\n<path fill=\"none\" stroke=\"#000000\" d=\"M959.6605,-88.9777C939.4496,-78.7664 917.3906,-67.6214 897.5722,-57.6085\"/>\n<polygon fill=\"#000000\" stroke=\"#000000\" points=\"899.1427,-54.4806 888.6389,-53.095 895.986,-60.7285 899.1427,-54.4806\"/>\n</g>\n<!-- 13 -->\n<g id=\"node14\" class=\"node\">\n<title>13</title>\n<polygon fill=\"#ea995e\" stroke=\"#000000\" points=\"1119.5,-53 950.5,-53 950.5,0 1119.5,0 1119.5,-53\"/>\n<text text-anchor=\"middle\" x=\"1035\" y=\"-37.8\" font-family=\"Helvetica,sans-Serif\" font-size=\"14.00\" fill=\"#000000\">squared_error = 930.25</text>\n<text text-anchor=\"middle\" x=\"1035\" y=\"-22.8\" font-family=\"Helvetica,sans-Serif\" font-size=\"14.00\" fill=\"#000000\">samples = 2</text>\n<text text-anchor=\"middle\" x=\"1035\" y=\"-7.8\" font-family=\"Helvetica,sans-Serif\" font-size=\"14.00\" fill=\"#000000\">value = 1014.5</text>\n</g>\n<!-- 11&#45;&gt;13 -->\n<g id=\"edge13\" class=\"edge\">\n<title>11&#45;&gt;13</title>\n<path fill=\"none\" stroke=\"#000000\" d=\"M1029.8205,-88.9777C1030.5113,-80.6449 1031.2537,-71.6903 1031.9545,-63.2364\"/>\n<polygon fill=\"#000000\" stroke=\"#000000\" points=\"1035.4443,-63.5035 1032.7825,-53.2485 1028.4682,-62.9251 1035.4443,-63.5035\"/>\n</g>\n<!-- 15 -->\n<g id=\"node16\" class=\"node\">\n<title>15</title>\n<polygon fill=\"#fdf7f2\" stroke=\"#000000\" points=\"1314.5,-53 1137.5,-53 1137.5,0 1314.5,0 1314.5,-53\"/>\n<text text-anchor=\"middle\" x=\"1226\" y=\"-37.8\" font-family=\"Helvetica,sans-Serif\" font-size=\"14.00\" fill=\"#000000\">squared_error = 6077.73</text>\n<text text-anchor=\"middle\" x=\"1226\" y=\"-22.8\" font-family=\"Helvetica,sans-Serif\" font-size=\"14.00\" fill=\"#000000\">samples = 901</text>\n<text text-anchor=\"middle\" x=\"1226\" y=\"-7.8\" font-family=\"Helvetica,sans-Serif\" font-size=\"14.00\" fill=\"#000000\">value = 205.81</text>\n</g>\n<!-- 14&#45;&gt;15 -->\n<g id=\"edge15\" class=\"edge\">\n<title>14&#45;&gt;15</title>\n<path fill=\"none\" stroke=\"#000000\" d=\"M1231.1795,-88.9777C1230.4887,-80.6449 1229.7463,-71.6903 1229.0455,-63.2364\"/>\n<polygon fill=\"#000000\" stroke=\"#000000\" points=\"1232.5318,-62.9251 1228.2175,-53.2485 1225.5557,-63.5035 1232.5318,-62.9251\"/>\n</g>\n<!-- 16 -->\n<g id=\"node17\" class=\"node\">\n<title>16</title>\n<polygon fill=\"#fefcfa\" stroke=\"#000000\" points=\"1517.5,-53 1332.5,-53 1332.5,0 1517.5,0 1517.5,-53\"/>\n<text text-anchor=\"middle\" x=\"1425\" y=\"-37.8\" font-family=\"Helvetica,sans-Serif\" font-size=\"14.00\" fill=\"#000000\">squared_error = 5125.541</text>\n<text text-anchor=\"middle\" x=\"1425\" y=\"-22.8\" font-family=\"Helvetica,sans-Serif\" font-size=\"14.00\" fill=\"#000000\">samples = 250</text>\n<text text-anchor=\"middle\" x=\"1425\" y=\"-7.8\" font-family=\"Helvetica,sans-Serif\" font-size=\"14.00\" fill=\"#000000\">value = 161.712</text>\n</g>\n<!-- 14&#45;&gt;16 -->\n<g id=\"edge16\" class=\"edge\">\n<title>14&#45;&gt;16</title>\n<path fill=\"none\" stroke=\"#000000\" d=\"M1301.3395,-88.9777C1321.5504,-78.7664 1343.6094,-67.6214 1363.4278,-57.6085\"/>\n<polygon fill=\"#000000\" stroke=\"#000000\" points=\"1365.014,-60.7285 1372.3611,-53.095 1361.8573,-54.4806 1365.014,-60.7285\"/>\n</g>\n<!-- 18 -->\n<g id=\"node19\" class=\"node\">\n<title>18</title>\n<polygon fill=\"#fbeade\" stroke=\"#000000\" points=\"2244,-261 2050,-261 2050,-193 2244,-193 2244,-261\"/>\n<text text-anchor=\"middle\" x=\"2147\" y=\"-245.8\" font-family=\"Helvetica,sans-Serif\" font-size=\"14.00\" fill=\"#000000\">병원 거리 &lt;= 8.378</text>\n<text text-anchor=\"middle\" x=\"2147\" y=\"-230.8\" font-family=\"Helvetica,sans-Serif\" font-size=\"14.00\" fill=\"#000000\">squared_error = 13275.706</text>\n<text text-anchor=\"middle\" x=\"2147\" y=\"-215.8\" font-family=\"Helvetica,sans-Serif\" font-size=\"14.00\" fill=\"#000000\">samples = 1104</text>\n<text text-anchor=\"middle\" x=\"2147\" y=\"-200.8\" font-family=\"Helvetica,sans-Serif\" font-size=\"14.00\" fill=\"#000000\">value = 318.043</text>\n</g>\n<!-- 17&#45;&gt;18 -->\n<g id=\"edge18\" class=\"edge\">\n<title>17&#45;&gt;18</title>\n<path fill=\"none\" stroke=\"#000000\" d=\"M2355.7592,-297.9509C2323.3459,-286.9345 2287.0645,-274.6036 2253.9555,-263.3509\"/>\n<polygon fill=\"#000000\" stroke=\"#000000\" points=\"2254.8446,-259.9565 2244.2502,-260.0524 2252.592,-266.5842 2254.8446,-259.9565\"/>\n</g>\n<!-- 25 -->\n<g id=\"node26\" class=\"node\">\n<title>25</title>\n<polygon fill=\"#fcf3ec\" stroke=\"#000000\" points=\"2650.5,-261 2465.5,-261 2465.5,-193 2650.5,-193 2650.5,-261\"/>\n<text text-anchor=\"middle\" x=\"2558\" y=\"-245.8\" font-family=\"Helvetica,sans-Serif\" font-size=\"14.00\" fill=\"#000000\">면적 &lt;= 89.56</text>\n<text text-anchor=\"middle\" x=\"2558\" y=\"-230.8\" font-family=\"Helvetica,sans-Serif\" font-size=\"14.00\" fill=\"#000000\">squared_error = 6532.837</text>\n<text text-anchor=\"middle\" x=\"2558\" y=\"-215.8\" font-family=\"Helvetica,sans-Serif\" font-size=\"14.00\" fill=\"#000000\">samples = 492</text>\n<text text-anchor=\"middle\" x=\"2558\" y=\"-200.8\" font-family=\"Helvetica,sans-Serif\" font-size=\"14.00\" fill=\"#000000\">value = 239.012</text>\n</g>\n<!-- 17&#45;&gt;25 -->\n<g id=\"edge25\" class=\"edge\">\n<title>17&#45;&gt;25</title>\n<path fill=\"none\" stroke=\"#000000\" d=\"M2487.3809,-296.9465C2496.6271,-287.7884 2506.7279,-277.7838 2516.3243,-268.2788\"/>\n<polygon fill=\"#000000\" stroke=\"#000000\" points=\"2518.9,-270.6539 2523.5418,-261.13 2513.974,-265.6805 2518.9,-270.6539\"/>\n</g>\n<!-- 19 -->\n<g id=\"node20\" class=\"node\">\n<title>19</title>\n<polygon fill=\"#f9e4d4\" stroke=\"#000000\" points=\"1936,-157 1742,-157 1742,-89 1936,-89 1936,-157\"/>\n<text text-anchor=\"middle\" x=\"1839\" y=\"-141.8\" font-family=\"Helvetica,sans-Serif\" font-size=\"14.00\" fill=\"#000000\">병원 거리 &lt;= 7.962</text>\n<text text-anchor=\"middle\" x=\"1839\" y=\"-126.8\" font-family=\"Helvetica,sans-Serif\" font-size=\"14.00\" fill=\"#000000\">squared_error = 17639.973</text>\n<text text-anchor=\"middle\" x=\"1839\" y=\"-111.8\" font-family=\"Helvetica,sans-Serif\" font-size=\"14.00\" fill=\"#000000\">samples = 357</text>\n<text text-anchor=\"middle\" x=\"1839\" y=\"-96.8\" font-family=\"Helvetica,sans-Serif\" font-size=\"14.00\" fill=\"#000000\">value = 367.639</text>\n</g>\n<!-- 18&#45;&gt;19 -->\n<g id=\"edge19\" class=\"edge\">\n<title>18&#45;&gt;19</title>\n<path fill=\"none\" stroke=\"#000000\" d=\"M2049.9696,-194.2365C2016.9092,-183.0732 1979.771,-170.5331 1945.9751,-159.1214\"/>\n<polygon fill=\"#000000\" stroke=\"#000000\" points=\"1946.6658,-155.6606 1936.0716,-155.7774 1944.4264,-162.2927 1946.6658,-155.6606\"/>\n</g>\n<!-- 22 -->\n<g id=\"node23\" class=\"node\">\n<title>22</title>\n<polygon fill=\"#fbece2\" stroke=\"#000000\" points=\"2239.5,-157 2054.5,-157 2054.5,-89 2239.5,-89 2239.5,-157\"/>\n<text text-anchor=\"middle\" x=\"2147\" y=\"-141.8\" font-family=\"Helvetica,sans-Serif\" font-size=\"14.00\" fill=\"#000000\">방 개수 &lt;= 2.5</text>\n<text text-anchor=\"middle\" x=\"2147\" y=\"-126.8\" font-family=\"Helvetica,sans-Serif\" font-size=\"14.00\" fill=\"#000000\">squared_error = 9452.607</text>\n<text text-anchor=\"middle\" x=\"2147\" y=\"-111.8\" font-family=\"Helvetica,sans-Serif\" font-size=\"14.00\" fill=\"#000000\">samples = 747</text>\n<text text-anchor=\"middle\" x=\"2147\" y=\"-96.8\" font-family=\"Helvetica,sans-Serif\" font-size=\"14.00\" fill=\"#000000\">value = 294.34</text>\n</g>\n<!-- 18&#45;&gt;22 -->\n<g id=\"edge22\" class=\"edge\">\n<title>18&#45;&gt;22</title>\n<path fill=\"none\" stroke=\"#000000\" d=\"M2147,-192.9465C2147,-184.776 2147,-175.9318 2147,-167.3697\"/>\n<polygon fill=\"#000000\" stroke=\"#000000\" points=\"2150.5001,-167.13 2147,-157.13 2143.5001,-167.13 2150.5001,-167.13\"/>\n</g>\n<!-- 20 -->\n<g id=\"node21\" class=\"node\">\n<title>20</title>\n<polygon fill=\"#fae5d7\" stroke=\"#000000\" points=\"1729,-53 1535,-53 1535,0 1729,0 1729,-53\"/>\n<text text-anchor=\"middle\" x=\"1632\" y=\"-37.8\" font-family=\"Helvetica,sans-Serif\" font-size=\"14.00\" fill=\"#000000\">squared_error = 12320.641</text>\n<text text-anchor=\"middle\" x=\"1632\" y=\"-22.8\" font-family=\"Helvetica,sans-Serif\" font-size=\"14.00\" fill=\"#000000\">samples = 336</text>\n<text text-anchor=\"middle\" x=\"1632\" y=\"-7.8\" font-family=\"Helvetica,sans-Serif\" font-size=\"14.00\" fill=\"#000000\">value = 355.128</text>\n</g>\n<!-- 19&#45;&gt;20 -->\n<g id=\"edge20\" class=\"edge\">\n<title>19&#45;&gt;20</title>\n<path fill=\"none\" stroke=\"#000000\" d=\"M1766.0195,-88.9777C1743.9182,-78.6744 1719.7778,-67.4205 1698.1502,-57.3381\"/>\n<polygon fill=\"#000000\" stroke=\"#000000\" points=\"1699.5908,-54.1481 1689.0484,-53.095 1696.6331,-60.4926 1699.5908,-54.1481\"/>\n</g>\n<!-- 21 -->\n<g id=\"node22\" class=\"node\">\n<title>21</title>\n<polygon fill=\"#f5cdb0\" stroke=\"#000000\" points=\"1931.5,-53 1746.5,-53 1746.5,0 1931.5,0 1931.5,-53\"/>\n<text text-anchor=\"middle\" x=\"1839\" y=\"-37.8\" font-family=\"Helvetica,sans-Serif\" font-size=\"14.00\" fill=\"#000000\">squared_error = 60176.63</text>\n<text text-anchor=\"middle\" x=\"1839\" y=\"-22.8\" font-family=\"Helvetica,sans-Serif\" font-size=\"14.00\" fill=\"#000000\">samples = 21</text>\n<text text-anchor=\"middle\" x=\"1839\" y=\"-7.8\" font-family=\"Helvetica,sans-Serif\" font-size=\"14.00\" fill=\"#000000\">value = 567.81</text>\n</g>\n<!-- 19&#45;&gt;21 -->\n<g id=\"edge21\" class=\"edge\">\n<title>19&#45;&gt;21</title>\n<path fill=\"none\" stroke=\"#000000\" d=\"M1839,-88.9777C1839,-80.7364 1839,-71.887 1839,-63.5153\"/>\n<polygon fill=\"#000000\" stroke=\"#000000\" points=\"1842.5001,-63.2484 1839,-53.2485 1835.5001,-63.2485 1842.5001,-63.2484\"/>\n</g>\n<!-- 23 -->\n<g id=\"node24\" class=\"node\">\n<title>23</title>\n<polygon fill=\"#fcefe6\" stroke=\"#000000\" points=\"2134.5,-53 1949.5,-53 1949.5,0 2134.5,0 2134.5,-53\"/>\n<text text-anchor=\"middle\" x=\"2042\" y=\"-37.8\" font-family=\"Helvetica,sans-Serif\" font-size=\"14.00\" fill=\"#000000\">squared_error = 7270.565</text>\n<text text-anchor=\"middle\" x=\"2042\" y=\"-22.8\" font-family=\"Helvetica,sans-Serif\" font-size=\"14.00\" fill=\"#000000\">samples = 485</text>\n<text text-anchor=\"middle\" x=\"2042\" y=\"-7.8\" font-family=\"Helvetica,sans-Serif\" font-size=\"14.00\" fill=\"#000000\">value = 271.555</text>\n</g>\n<!-- 22&#45;&gt;23 -->\n<g id=\"edge23\" class=\"edge\">\n<title>22&#45;&gt;23</title>\n<path fill=\"none\" stroke=\"#000000\" d=\"M2109.9809,-88.9777C2099.8181,-79.6376 2088.8053,-69.5163 2078.6626,-60.1947\"/>\n<polygon fill=\"#000000\" stroke=\"#000000\" points=\"2080.8358,-57.4383 2071.1046,-53.2485 2076.099,-62.5923 2080.8358,-57.4383\"/>\n</g>\n<!-- 24 -->\n<g id=\"node25\" class=\"node\">\n<title>24</title>\n<polygon fill=\"#fae8da\" stroke=\"#000000\" points=\"2346,-53 2152,-53 2152,0 2346,0 2346,-53\"/>\n<text text-anchor=\"middle\" x=\"2249\" y=\"-37.8\" font-family=\"Helvetica,sans-Serif\" font-size=\"14.00\" fill=\"#000000\">squared_error = 10751.746</text>\n<text text-anchor=\"middle\" x=\"2249\" y=\"-22.8\" font-family=\"Helvetica,sans-Serif\" font-size=\"14.00\" fill=\"#000000\">samples = 262</text>\n<text text-anchor=\"middle\" x=\"2249\" y=\"-7.8\" font-family=\"Helvetica,sans-Serif\" font-size=\"14.00\" fill=\"#000000\">value = 336.519</text>\n</g>\n<!-- 22&#45;&gt;24 -->\n<g id=\"edge24\" class=\"edge\">\n<title>22&#45;&gt;24</title>\n<path fill=\"none\" stroke=\"#000000\" d=\"M2182.9614,-88.9777C2192.8338,-79.6376 2203.532,-69.5163 2213.3849,-60.1947\"/>\n<polygon fill=\"#000000\" stroke=\"#000000\" points=\"2215.8682,-62.6635 2220.727,-53.2485 2211.0574,-57.5785 2215.8682,-62.6635\"/>\n</g>\n<!-- 26 -->\n<g id=\"node27\" class=\"node\">\n<title>26</title>\n<polygon fill=\"#fdf7f3\" stroke=\"#000000\" points=\"2650.5,-157 2465.5,-157 2465.5,-89 2650.5,-89 2650.5,-157\"/>\n<text text-anchor=\"middle\" x=\"2558\" y=\"-141.8\" font-family=\"Helvetica,sans-Serif\" font-size=\"14.00\" fill=\"#000000\">기차 거리 &lt;= 14.763</text>\n<text text-anchor=\"middle\" x=\"2558\" y=\"-126.8\" font-family=\"Helvetica,sans-Serif\" font-size=\"14.00\" fill=\"#000000\">squared_error = 3756.005</text>\n<text text-anchor=\"middle\" x=\"2558\" y=\"-111.8\" font-family=\"Helvetica,sans-Serif\" font-size=\"14.00\" fill=\"#000000\">samples = 176</text>\n<text text-anchor=\"middle\" x=\"2558\" y=\"-96.8\" font-family=\"Helvetica,sans-Serif\" font-size=\"14.00\" fill=\"#000000\">value = 202.017</text>\n</g>\n<!-- 25&#45;&gt;26 -->\n<g id=\"edge26\" class=\"edge\">\n<title>25&#45;&gt;26</title>\n<path fill=\"none\" stroke=\"#000000\" d=\"M2558,-192.9465C2558,-184.776 2558,-175.9318 2558,-167.3697\"/>\n<polygon fill=\"#000000\" stroke=\"#000000\" points=\"2561.5001,-167.13 2558,-157.13 2554.5001,-167.13 2561.5001,-167.13\"/>\n</g>\n<!-- 29 -->\n<g id=\"node30\" class=\"node\">\n<title>29</title>\n<polygon fill=\"#fcf0e8\" stroke=\"#000000\" points=\"2958.5,-157 2773.5,-157 2773.5,-89 2958.5,-89 2958.5,-157\"/>\n<text text-anchor=\"middle\" x=\"2866\" y=\"-141.8\" font-family=\"Helvetica,sans-Serif\" font-size=\"14.00\" fill=\"#000000\">병원 거리 &lt;= 7.627</text>\n<text text-anchor=\"middle\" x=\"2866\" y=\"-126.8\" font-family=\"Helvetica,sans-Serif\" font-size=\"14.00\" fill=\"#000000\">squared_error = 6892.584</text>\n<text text-anchor=\"middle\" x=\"2866\" y=\"-111.8\" font-family=\"Helvetica,sans-Serif\" font-size=\"14.00\" fill=\"#000000\">samples = 316</text>\n<text text-anchor=\"middle\" x=\"2866\" y=\"-96.8\" font-family=\"Helvetica,sans-Serif\" font-size=\"14.00\" fill=\"#000000\">value = 259.617</text>\n</g>\n<!-- 25&#45;&gt;29 -->\n<g id=\"edge29\" class=\"edge\">\n<title>25&#45;&gt;29</title>\n<path fill=\"none\" stroke=\"#000000\" d=\"M2650.8278,-195.6555C2686.4363,-183.6319 2727.2551,-169.8489 2763.7028,-157.5419\"/>\n<polygon fill=\"#000000\" stroke=\"#000000\" points=\"2765.0076,-160.7956 2773.3623,-154.2803 2762.7681,-154.1634 2765.0076,-160.7956\"/>\n</g>\n<!-- 27 -->\n<g id=\"node28\" class=\"node\">\n<title>27</title>\n<polygon fill=\"#fdf3ec\" stroke=\"#000000\" points=\"2548.5,-53 2363.5,-53 2363.5,0 2548.5,0 2548.5,-53\"/>\n<text text-anchor=\"middle\" x=\"2456\" y=\"-37.8\" font-family=\"Helvetica,sans-Serif\" font-size=\"14.00\" fill=\"#000000\">squared_error = 5596.947</text>\n<text text-anchor=\"middle\" x=\"2456\" y=\"-22.8\" font-family=\"Helvetica,sans-Serif\" font-size=\"14.00\" fill=\"#000000\">samples = 53</text>\n<text text-anchor=\"middle\" x=\"2456\" y=\"-7.8\" font-family=\"Helvetica,sans-Serif\" font-size=\"14.00\" fill=\"#000000\">value = 236.358</text>\n</g>\n<!-- 26&#45;&gt;27 -->\n<g id=\"edge27\" class=\"edge\">\n<title>26&#45;&gt;27</title>\n<path fill=\"none\" stroke=\"#000000\" d=\"M2522.0386,-88.9777C2512.1662,-79.6376 2501.468,-69.5163 2491.6151,-60.1947\"/>\n<polygon fill=\"#000000\" stroke=\"#000000\" points=\"2493.9426,-57.5785 2484.273,-53.2485 2489.1318,-62.6635 2493.9426,-57.5785\"/>\n</g>\n<!-- 28 -->\n<g id=\"node29\" class=\"node\">\n<title>28</title>\n<polygon fill=\"#fef9f5\" stroke=\"#000000\" points=\"2751.5,-53 2566.5,-53 2566.5,0 2751.5,0 2751.5,-53\"/>\n<text text-anchor=\"middle\" x=\"2659\" y=\"-37.8\" font-family=\"Helvetica,sans-Serif\" font-size=\"14.00\" fill=\"#000000\">squared_error = 2235.618</text>\n<text text-anchor=\"middle\" x=\"2659\" y=\"-22.8\" font-family=\"Helvetica,sans-Serif\" font-size=\"14.00\" fill=\"#000000\">samples = 123</text>\n<text text-anchor=\"middle\" x=\"2659\" y=\"-7.8\" font-family=\"Helvetica,sans-Serif\" font-size=\"14.00\" fill=\"#000000\">value = 187.22</text>\n</g>\n<!-- 26&#45;&gt;28 -->\n<g id=\"edge28\" class=\"edge\">\n<title>26&#45;&gt;28</title>\n<path fill=\"none\" stroke=\"#000000\" d=\"M2593.6088,-88.9777C2603.3845,-79.6376 2613.9777,-69.5163 2623.734,-60.1947\"/>\n<polygon fill=\"#000000\" stroke=\"#000000\" points=\"2626.1917,-62.6873 2631.0042,-53.2485 2621.356,-57.6261 2626.1917,-62.6873\"/>\n</g>\n<!-- 30 -->\n<g id=\"node31\" class=\"node\">\n<title>30</title>\n<polygon fill=\"#fae9dc\" stroke=\"#000000\" points=\"2963,-53 2769,-53 2769,0 2963,0 2963,-53\"/>\n<text text-anchor=\"middle\" x=\"2866\" y=\"-37.8\" font-family=\"Helvetica,sans-Serif\" font-size=\"14.00\" fill=\"#000000\">squared_error = 18228.538</text>\n<text text-anchor=\"middle\" x=\"2866\" y=\"-22.8\" font-family=\"Helvetica,sans-Serif\" font-size=\"14.00\" fill=\"#000000\">samples = 39</text>\n<text text-anchor=\"middle\" x=\"2866\" y=\"-7.8\" font-family=\"Helvetica,sans-Serif\" font-size=\"14.00\" fill=\"#000000\">value = 328.026</text>\n</g>\n<!-- 29&#45;&gt;30 -->\n<g id=\"edge30\" class=\"edge\">\n<title>29&#45;&gt;30</title>\n<path fill=\"none\" stroke=\"#000000\" d=\"M2866,-88.9777C2866,-80.7364 2866,-71.887 2866,-63.5153\"/>\n<polygon fill=\"#000000\" stroke=\"#000000\" points=\"2869.5001,-63.2484 2866,-53.2485 2862.5001,-63.2485 2869.5001,-63.2484\"/>\n</g>\n<!-- 31 -->\n<g id=\"node32\" class=\"node\">\n<title>31</title>\n<polygon fill=\"#fcf2ea\" stroke=\"#000000\" points=\"3165.5,-53 2980.5,-53 2980.5,0 3165.5,0 3165.5,-53\"/>\n<text text-anchor=\"middle\" x=\"3073\" y=\"-37.8\" font-family=\"Helvetica,sans-Serif\" font-size=\"14.00\" fill=\"#000000\">squared_error = 4544.902</text>\n<text text-anchor=\"middle\" x=\"3073\" y=\"-22.8\" font-family=\"Helvetica,sans-Serif\" font-size=\"14.00\" fill=\"#000000\">samples = 277</text>\n<text text-anchor=\"middle\" x=\"3073\" y=\"-7.8\" font-family=\"Helvetica,sans-Serif\" font-size=\"14.00\" fill=\"#000000\">value = 249.986</text>\n</g>\n<!-- 29&#45;&gt;31 -->\n<g id=\"edge31\" class=\"edge\">\n<title>29&#45;&gt;31</title>\n<path fill=\"none\" stroke=\"#000000\" d=\"M2938.9805,-88.9777C2961.0818,-78.6744 2985.2222,-67.4205 3006.8498,-57.3381\"/>\n<polygon fill=\"#000000\" stroke=\"#000000\" points=\"3008.3669,-60.4926 3015.9516,-53.095 3005.4092,-54.1481 3008.3669,-60.4926\"/>\n</g>\n<!-- 33 -->\n<g id=\"node34\" class=\"node\">\n<title>33</title>\n<polygon fill=\"#eead7e\" stroke=\"#000000\" points=\"3996,-365 3802,-365 3802,-297 3996,-297 3996,-365\"/>\n<text text-anchor=\"middle\" x=\"3899\" y=\"-349.8\" font-family=\"Helvetica,sans-Serif\" font-size=\"14.00\" fill=\"#000000\">면적 &lt;= 172.89</text>\n<text text-anchor=\"middle\" x=\"3899\" y=\"-334.8\" font-family=\"Helvetica,sans-Serif\" font-size=\"14.00\" fill=\"#000000\">squared_error = 77305.436</text>\n<text text-anchor=\"middle\" x=\"3899\" y=\"-319.8\" font-family=\"Helvetica,sans-Serif\" font-size=\"14.00\" fill=\"#000000\">samples = 398</text>\n<text text-anchor=\"middle\" x=\"3899\" y=\"-304.8\" font-family=\"Helvetica,sans-Serif\" font-size=\"14.00\" fill=\"#000000\">value = 841.276</text>\n</g>\n<!-- 32&#45;&gt;33 -->\n<g id=\"edge33\" class=\"edge\">\n<title>32&#45;&gt;33</title>\n<path fill=\"none\" stroke=\"#000000\" d=\"M3899,-400.9465C3899,-392.776 3899,-383.9318 3899,-375.3697\"/>\n<polygon fill=\"#000000\" stroke=\"#000000\" points=\"3902.5001,-375.13 3899,-365.13 3895.5001,-375.13 3902.5001,-375.13\"/>\n</g>\n<!-- 48 -->\n<g id=\"node49\" class=\"node\">\n<title>48</title>\n<polygon fill=\"#f7d9c3\" stroke=\"#000000\" points=\"5314,-365 5120,-365 5120,-297 5314,-297 5314,-365\"/>\n<text text-anchor=\"middle\" x=\"5217\" y=\"-349.8\" font-family=\"Helvetica,sans-Serif\" font-size=\"14.00\" fill=\"#000000\">면적 &lt;= 200.205</text>\n<text text-anchor=\"middle\" x=\"5217\" y=\"-334.8\" font-family=\"Helvetica,sans-Serif\" font-size=\"14.00\" fill=\"#000000\">squared_error = 34400.297</text>\n<text text-anchor=\"middle\" x=\"5217\" y=\"-319.8\" font-family=\"Helvetica,sans-Serif\" font-size=\"14.00\" fill=\"#000000\">samples = 1521</text>\n<text text-anchor=\"middle\" x=\"5217\" y=\"-304.8\" font-family=\"Helvetica,sans-Serif\" font-size=\"14.00\" fill=\"#000000\">value = 463.576</text>\n</g>\n<!-- 32&#45;&gt;48 -->\n<g id=\"edge48\" class=\"edge\">\n<title>32&#45;&gt;48</title>\n<path fill=\"none\" stroke=\"#000000\" d=\"M3996.1832,-427.3315C4236.8019,-408.3449 4858.9132,-359.2557 5109.7795,-339.4605\"/>\n<polygon fill=\"#000000\" stroke=\"#000000\" points=\"5110.3019,-342.9302 5119.9955,-338.6544 5109.7512,-335.9519 5110.3019,-342.9302\"/>\n</g>\n<!-- 34 -->\n<g id=\"node35\" class=\"node\">\n<title>34</title>\n<polygon fill=\"#f1bc95\" stroke=\"#000000\" points=\"3890,-261 3696,-261 3696,-193 3890,-193 3890,-261\"/>\n<text text-anchor=\"middle\" x=\"3793\" y=\"-245.8\" font-family=\"Helvetica,sans-Serif\" font-size=\"14.00\" fill=\"#000000\">기차 거리 &lt;= 11.122</text>\n<text text-anchor=\"middle\" x=\"3793\" y=\"-230.8\" font-family=\"Helvetica,sans-Serif\" font-size=\"14.00\" fill=\"#000000\">squared_error = 43769.338</text>\n<text text-anchor=\"middle\" x=\"3793\" y=\"-215.8\" font-family=\"Helvetica,sans-Serif\" font-size=\"14.00\" fill=\"#000000\">samples = 233</text>\n<text text-anchor=\"middle\" x=\"3793\" y=\"-200.8\" font-family=\"Helvetica,sans-Serif\" font-size=\"14.00\" fill=\"#000000\">value = 714.288</text>\n</g>\n<!-- 33&#45;&gt;34 -->\n<g id=\"edge34\" class=\"edge\">\n<title>33&#45;&gt;34</title>\n<path fill=\"none\" stroke=\"#000000\" d=\"M3864.2916,-296.9465C3854.9574,-287.7884 3844.7604,-277.7838 3835.0727,-268.2788\"/>\n<polygon fill=\"#000000\" stroke=\"#000000\" points=\"3837.3757,-265.6351 3827.7863,-261.13 3832.4733,-270.6318 3837.3757,-265.6351\"/>\n</g>\n<!-- 41 -->\n<g id=\"node42\" class=\"node\">\n<title>41</title>\n<polygon fill=\"#ea985d\" stroke=\"#000000\" points=\"4309,-261 4115,-261 4115,-193 4309,-193 4309,-261\"/>\n<text text-anchor=\"middle\" x=\"4212\" y=\"-245.8\" font-family=\"Helvetica,sans-Serif\" font-size=\"14.00\" fill=\"#000000\">방 개수 &lt;= 3.5</text>\n<text text-anchor=\"middle\" x=\"4212\" y=\"-230.8\" font-family=\"Helvetica,sans-Serif\" font-size=\"14.00\" fill=\"#000000\">squared_error = 69733.416</text>\n<text text-anchor=\"middle\" x=\"4212\" y=\"-215.8\" font-family=\"Helvetica,sans-Serif\" font-size=\"14.00\" fill=\"#000000\">samples = 165</text>\n<text text-anchor=\"middle\" x=\"4212\" y=\"-200.8\" font-family=\"Helvetica,sans-Serif\" font-size=\"14.00\" fill=\"#000000\">value = 1020.6</text>\n</g>\n<!-- 33&#45;&gt;41 -->\n<g id=\"edge41\" class=\"edge\">\n<title>33&#45;&gt;41</title>\n<path fill=\"none\" stroke=\"#000000\" d=\"M3996.3194,-298.6638C4030.7667,-287.2181 4069.7001,-274.2818 4104.9141,-262.5813\"/>\n<polygon fill=\"#000000\" stroke=\"#000000\" points=\"4106.3545,-265.7909 4114.7408,-259.3162 4104.1473,-259.148 4106.3545,-265.7909\"/>\n</g>\n<!-- 35 -->\n<g id=\"node36\" class=\"node\">\n<title>35</title>\n<polygon fill=\"#efb287\" stroke=\"#000000\" points=\"3572,-157 3378,-157 3378,-89 3572,-89 3572,-157\"/>\n<text text-anchor=\"middle\" x=\"3475\" y=\"-141.8\" font-family=\"Helvetica,sans-Serif\" font-size=\"14.00\" fill=\"#000000\">병원 거리 &lt;= 1.394</text>\n<text text-anchor=\"middle\" x=\"3475\" y=\"-126.8\" font-family=\"Helvetica,sans-Serif\" font-size=\"14.00\" fill=\"#000000\">squared_error = 40510.275</text>\n<text text-anchor=\"middle\" x=\"3475\" y=\"-111.8\" font-family=\"Helvetica,sans-Serif\" font-size=\"14.00\" fill=\"#000000\">samples = 134</text>\n<text text-anchor=\"middle\" x=\"3475\" y=\"-96.8\" font-family=\"Helvetica,sans-Serif\" font-size=\"14.00\" fill=\"#000000\">value = 794.037</text>\n</g>\n<!-- 34&#45;&gt;35 -->\n<g id=\"edge35\" class=\"edge\">\n<title>34&#45;&gt;35</title>\n<path fill=\"none\" stroke=\"#000000\" d=\"M3695.8616,-195.2315C3659.8127,-183.4419 3618.7377,-170.0086 3581.8679,-157.9505\"/>\n<polygon fill=\"#000000\" stroke=\"#000000\" points=\"3582.6836,-154.5349 3572.091,-154.753 3580.5077,-161.1882 3582.6836,-154.5349\"/>\n</g>\n<!-- 38 -->\n<g id=\"node39\" class=\"node\">\n<title>38</title>\n<polygon fill=\"#f4c8a9\" stroke=\"#000000\" points=\"3890,-157 3696,-157 3696,-89 3890,-89 3890,-157\"/>\n<text text-anchor=\"middle\" x=\"3793\" y=\"-141.8\" font-family=\"Helvetica,sans-Serif\" font-size=\"14.00\" fill=\"#000000\">면적 &lt;= 155.615</text>\n<text text-anchor=\"middle\" x=\"3793\" y=\"-126.8\" font-family=\"Helvetica,sans-Serif\" font-size=\"14.00\" fill=\"#000000\">squared_error = 27920.145</text>\n<text text-anchor=\"middle\" x=\"3793\" y=\"-111.8\" font-family=\"Helvetica,sans-Serif\" font-size=\"14.00\" fill=\"#000000\">samples = 99</text>\n<text text-anchor=\"middle\" x=\"3793\" y=\"-96.8\" font-family=\"Helvetica,sans-Serif\" font-size=\"14.00\" fill=\"#000000\">value = 606.343</text>\n</g>\n<!-- 34&#45;&gt;38 -->\n<g id=\"edge38\" class=\"edge\">\n<title>34&#45;&gt;38</title>\n<path fill=\"none\" stroke=\"#000000\" d=\"M3793,-192.9465C3793,-184.776 3793,-175.9318 3793,-167.3697\"/>\n<polygon fill=\"#000000\" stroke=\"#000000\" points=\"3796.5001,-167.13 3793,-157.13 3789.5001,-167.13 3796.5001,-167.13\"/>\n</g>\n<!-- 36 -->\n<g id=\"node37\" class=\"node\">\n<title>36</title>\n<polygon fill=\"#eb9f69\" stroke=\"#000000\" points=\"3360.5,-53 3183.5,-53 3183.5,0 3360.5,0 3360.5,-53\"/>\n<text text-anchor=\"middle\" x=\"3272\" y=\"-37.8\" font-family=\"Helvetica,sans-Serif\" font-size=\"14.00\" fill=\"#000000\">squared_error = 40500.0</text>\n<text text-anchor=\"middle\" x=\"3272\" y=\"-22.8\" font-family=\"Helvetica,sans-Serif\" font-size=\"14.00\" fill=\"#000000\">samples = 23</text>\n<text text-anchor=\"middle\" x=\"3272\" y=\"-7.8\" font-family=\"Helvetica,sans-Serif\" font-size=\"14.00\" fill=\"#000000\">value = 957.0</text>\n</g>\n<!-- 35&#45;&gt;36 -->\n<g id=\"edge36\" class=\"edge\">\n<title>35&#45;&gt;36</title>\n<path fill=\"none\" stroke=\"#000000\" d=\"M3403.4298,-88.9777C3381.8523,-78.7204 3358.2929,-67.521 3337.1562,-57.4732\"/>\n<polygon fill=\"#000000\" stroke=\"#000000\" points=\"3338.4802,-54.2274 3327.946,-53.095 3335.4748,-60.5494 3338.4802,-54.2274\"/>\n</g>\n<!-- 37 -->\n<g id=\"node38\" class=\"node\">\n<title>37</title>\n<polygon fill=\"#f0b68d\" stroke=\"#000000\" points=\"3572,-53 3378,-53 3378,0 3572,0 3572,-53\"/>\n<text text-anchor=\"middle\" x=\"3475\" y=\"-37.8\" font-family=\"Helvetica,sans-Serif\" font-size=\"14.00\" fill=\"#000000\">squared_error = 33869.422</text>\n<text text-anchor=\"middle\" x=\"3475\" y=\"-22.8\" font-family=\"Helvetica,sans-Serif\" font-size=\"14.00\" fill=\"#000000\">samples = 111</text>\n<text text-anchor=\"middle\" x=\"3475\" y=\"-7.8\" font-family=\"Helvetica,sans-Serif\" font-size=\"14.00\" fill=\"#000000\">value = 760.27</text>\n</g>\n<!-- 35&#45;&gt;37 -->\n<g id=\"edge37\" class=\"edge\">\n<title>35&#45;&gt;37</title>\n<path fill=\"none\" stroke=\"#000000\" d=\"M3475,-88.9777C3475,-80.7364 3475,-71.887 3475,-63.5153\"/>\n<polygon fill=\"#000000\" stroke=\"#000000\" points=\"3478.5001,-63.2484 3475,-53.2485 3471.5001,-63.2485 3478.5001,-63.2484\"/>\n</g>\n<!-- 39 -->\n<g id=\"node40\" class=\"node\">\n<title>39</title>\n<polygon fill=\"#f6d4bb\" stroke=\"#000000\" points=\"3784,-53 3590,-53 3590,0 3784,0 3784,-53\"/>\n<text text-anchor=\"middle\" x=\"3687\" y=\"-37.8\" font-family=\"Helvetica,sans-Serif\" font-size=\"14.00\" fill=\"#000000\">squared_error = 17650.692</text>\n<text text-anchor=\"middle\" x=\"3687\" y=\"-22.8\" font-family=\"Helvetica,sans-Serif\" font-size=\"14.00\" fill=\"#000000\">samples = 42</text>\n<text text-anchor=\"middle\" x=\"3687\" y=\"-7.8\" font-family=\"Helvetica,sans-Serif\" font-size=\"14.00\" fill=\"#000000\">value = 508.786</text>\n</g>\n<!-- 38&#45;&gt;39 -->\n<g id=\"edge39\" class=\"edge\">\n<title>38&#45;&gt;39</title>\n<path fill=\"none\" stroke=\"#000000\" d=\"M3755.6284,-88.9777C3745.3688,-79.6376 3734.2511,-69.5163 3724.0118,-60.1947\"/>\n<polygon fill=\"#000000\" stroke=\"#000000\" points=\"3726.1326,-57.3923 3716.3817,-53.2485 3721.4202,-62.5686 3726.1326,-57.3923\"/>\n</g>\n<!-- 40 -->\n<g id=\"node41\" class=\"node\">\n<title>40</title>\n<polygon fill=\"#f2c09c\" stroke=\"#000000\" points=\"3996,-53 3802,-53 3802,0 3996,0 3996,-53\"/>\n<text text-anchor=\"middle\" x=\"3899\" y=\"-37.8\" font-family=\"Helvetica,sans-Serif\" font-size=\"14.00\" fill=\"#000000\">squared_error = 23306.808</text>\n<text text-anchor=\"middle\" x=\"3899\" y=\"-22.8\" font-family=\"Helvetica,sans-Serif\" font-size=\"14.00\" fill=\"#000000\">samples = 57</text>\n<text text-anchor=\"middle\" x=\"3899\" y=\"-7.8\" font-family=\"Helvetica,sans-Serif\" font-size=\"14.00\" fill=\"#000000\">value = 678.228</text>\n</g>\n<!-- 38&#45;&gt;40 -->\n<g id=\"edge40\" class=\"edge\">\n<title>38&#45;&gt;40</title>\n<path fill=\"none\" stroke=\"#000000\" d=\"M3830.3716,-88.9777C3840.6312,-79.6376 3851.7489,-69.5163 3861.9882,-60.1947\"/>\n<polygon fill=\"#000000\" stroke=\"#000000\" points=\"3864.5798,-62.5686 3869.6183,-53.2485 3859.8674,-57.3923 3864.5798,-62.5686\"/>\n</g>\n<!-- 42 -->\n<g id=\"node43\" class=\"node\">\n<title>42</title>\n<polygon fill=\"#eba069\" stroke=\"#000000\" points=\"4309,-157 4115,-157 4115,-89 4309,-89 4309,-157\"/>\n<text text-anchor=\"middle\" x=\"4212\" y=\"-141.8\" font-family=\"Helvetica,sans-Serif\" font-size=\"14.00\" fill=\"#000000\">방 개수 &lt;= 2.5</text>\n<text text-anchor=\"middle\" x=\"4212\" y=\"-126.8\" font-family=\"Helvetica,sans-Serif\" font-size=\"14.00\" fill=\"#000000\">squared_error = 60242.583</text>\n<text text-anchor=\"middle\" x=\"4212\" y=\"-111.8\" font-family=\"Helvetica,sans-Serif\" font-size=\"14.00\" fill=\"#000000\">samples = 122</text>\n<text text-anchor=\"middle\" x=\"4212\" y=\"-96.8\" font-family=\"Helvetica,sans-Serif\" font-size=\"14.00\" fill=\"#000000\">value = 956.918</text>\n</g>\n<!-- 41&#45;&gt;42 -->\n<g id=\"edge42\" class=\"edge\">\n<title>41&#45;&gt;42</title>\n<path fill=\"none\" stroke=\"#000000\" d=\"M4212,-192.9465C4212,-184.776 4212,-175.9318 4212,-167.3697\"/>\n<polygon fill=\"#000000\" stroke=\"#000000\" points=\"4215.5001,-167.13 4212,-157.13 4208.5001,-167.13 4215.5001,-167.13\"/>\n</g>\n<!-- 45 -->\n<g id=\"node46\" class=\"node\">\n<title>45</title>\n<polygon fill=\"#e5833c\" stroke=\"#000000\" points=\"4622,-157 4428,-157 4428,-89 4622,-89 4622,-157\"/>\n<text text-anchor=\"middle\" x=\"4525\" y=\"-141.8\" font-family=\"Helvetica,sans-Serif\" font-size=\"14.00\" fill=\"#000000\">기차 거리 &lt;= 13.444</text>\n<text text-anchor=\"middle\" x=\"4525\" y=\"-126.8\" font-family=\"Helvetica,sans-Serif\" font-size=\"14.00\" fill=\"#000000\">squared_error = 52509.969</text>\n<text text-anchor=\"middle\" x=\"4525\" y=\"-111.8\" font-family=\"Helvetica,sans-Serif\" font-size=\"14.00\" fill=\"#000000\">samples = 43</text>\n<text text-anchor=\"middle\" x=\"4525\" y=\"-96.8\" font-family=\"Helvetica,sans-Serif\" font-size=\"14.00\" fill=\"#000000\">value = 1201.279</text>\n</g>\n<!-- 41&#45;&gt;45 -->\n<g id=\"edge45\" class=\"edge\">\n<title>41&#45;&gt;45</title>\n<path fill=\"none\" stroke=\"#000000\" d=\"M4309.3194,-194.6638C4343.7667,-183.2181 4382.7001,-170.2818 4417.9141,-158.5813\"/>\n<polygon fill=\"#000000\" stroke=\"#000000\" points=\"4419.3545,-161.7909 4427.7408,-155.3162 4417.1473,-155.148 4419.3545,-161.7909\"/>\n</g>\n<!-- 43 -->\n<g id=\"node44\" class=\"node\">\n<title>43</title>\n<polygon fill=\"#f1bc96\" stroke=\"#000000\" points=\"4208,-53 4014,-53 4014,0 4208,0 4208,-53\"/>\n<text text-anchor=\"middle\" x=\"4111\" y=\"-37.8\" font-family=\"Helvetica,sans-Serif\" font-size=\"14.00\" fill=\"#000000\">squared_error = 34914.602</text>\n<text text-anchor=\"middle\" x=\"4111\" y=\"-22.8\" font-family=\"Helvetica,sans-Serif\" font-size=\"14.00\" fill=\"#000000\">samples = 17</text>\n<text text-anchor=\"middle\" x=\"4111\" y=\"-7.8\" font-family=\"Helvetica,sans-Serif\" font-size=\"14.00\" fill=\"#000000\">value = 710.471</text>\n</g>\n<!-- 42&#45;&gt;43 -->\n<g id=\"edge43\" class=\"edge\">\n<title>42&#45;&gt;43</title>\n<path fill=\"none\" stroke=\"#000000\" d=\"M4176.3912,-88.9777C4166.6155,-79.6376 4156.0223,-69.5163 4146.266,-60.1947\"/>\n<polygon fill=\"#000000\" stroke=\"#000000\" points=\"4148.644,-57.6261 4138.9958,-53.2485 4143.8083,-62.6873 4148.644,-57.6261\"/>\n</g>\n<!-- 44 -->\n<g id=\"node45\" class=\"node\">\n<title>44</title>\n<polygon fill=\"#ea9b62\" stroke=\"#000000\" points=\"4410.5,-53 4225.5,-53 4225.5,0 4410.5,0 4410.5,-53\"/>\n<text text-anchor=\"middle\" x=\"4318\" y=\"-37.8\" font-family=\"Helvetica,sans-Serif\" font-size=\"14.00\" fill=\"#000000\">squared_error = 52917.71</text>\n<text text-anchor=\"middle\" x=\"4318\" y=\"-22.8\" font-family=\"Helvetica,sans-Serif\" font-size=\"14.00\" fill=\"#000000\">samples = 105</text>\n<text text-anchor=\"middle\" x=\"4318\" y=\"-7.8\" font-family=\"Helvetica,sans-Serif\" font-size=\"14.00\" fill=\"#000000\">value = 996.819</text>\n</g>\n<!-- 42&#45;&gt;44 -->\n<g id=\"edge44\" class=\"edge\">\n<title>42&#45;&gt;44</title>\n<path fill=\"none\" stroke=\"#000000\" d=\"M4249.3716,-88.9777C4259.6312,-79.6376 4270.7489,-69.5163 4280.9882,-60.1947\"/>\n<polygon fill=\"#000000\" stroke=\"#000000\" points=\"4283.5798,-62.5686 4288.6183,-53.2485 4278.8674,-57.3923 4283.5798,-62.5686\"/>\n</g>\n<!-- 46 -->\n<g id=\"node47\" class=\"node\">\n<title>46</title>\n<polygon fill=\"#e58139\" stroke=\"#000000\" points=\"4622,-53 4428,-53 4428,0 4622,0 4622,-53\"/>\n<text text-anchor=\"middle\" x=\"4525\" y=\"-37.8\" font-family=\"Helvetica,sans-Serif\" font-size=\"14.00\" fill=\"#000000\">squared_error = 39259.372</text>\n<text text-anchor=\"middle\" x=\"4525\" y=\"-22.8\" font-family=\"Helvetica,sans-Serif\" font-size=\"14.00\" fill=\"#000000\">samples = 42</text>\n<text text-anchor=\"middle\" x=\"4525\" y=\"-7.8\" font-family=\"Helvetica,sans-Serif\" font-size=\"14.00\" fill=\"#000000\">value = 1219.643</text>\n</g>\n<!-- 45&#45;&gt;46 -->\n<g id=\"edge46\" class=\"edge\">\n<title>45&#45;&gt;46</title>\n<path fill=\"none\" stroke=\"#000000\" d=\"M4525,-88.9777C4525,-80.7364 4525,-71.887 4525,-63.5153\"/>\n<polygon fill=\"#000000\" stroke=\"#000000\" points=\"4528.5001,-63.2484 4525,-53.2485 4521.5001,-63.2485 4528.5001,-63.2484\"/>\n</g>\n<!-- 47 -->\n<g id=\"node48\" class=\"node\">\n<title>47</title>\n<polygon fill=\"#f8ddc9\" stroke=\"#000000\" points=\"4784,-53 4640,-53 4640,0 4784,0 4784,-53\"/>\n<text text-anchor=\"middle\" x=\"4712\" y=\"-37.8\" font-family=\"Helvetica,sans-Serif\" font-size=\"14.00\" fill=\"#000000\">squared_error = 0.0</text>\n<text text-anchor=\"middle\" x=\"4712\" y=\"-22.8\" font-family=\"Helvetica,sans-Serif\" font-size=\"14.00\" fill=\"#000000\">samples = 1</text>\n<text text-anchor=\"middle\" x=\"4712\" y=\"-7.8\" font-family=\"Helvetica,sans-Serif\" font-size=\"14.00\" fill=\"#000000\">value = 430.0</text>\n</g>\n<!-- 45&#45;&gt;47 -->\n<g id=\"edge47\" class=\"edge\">\n<title>45&#45;&gt;47</title>\n<path fill=\"none\" stroke=\"#000000\" d=\"M4590.9292,-88.9777C4610.6278,-78.8124 4632.1194,-67.7218 4651.4549,-57.7439\"/>\n<polygon fill=\"#000000\" stroke=\"#000000\" points=\"4653.182,-60.7912 4660.4635,-53.095 4649.9719,-54.5706 4653.182,-60.7912\"/>\n</g>\n<!-- 49 -->\n<g id=\"node50\" class=\"node\">\n<title>49</title>\n<polygon fill=\"#f8ddca\" stroke=\"#000000\" points=\"5314,-261 5120,-261 5120,-193 5314,-193 5314,-261\"/>\n<text text-anchor=\"middle\" x=\"5217\" y=\"-245.8\" font-family=\"Helvetica,sans-Serif\" font-size=\"14.00\" fill=\"#000000\">기차 거리 &lt;= 5.813</text>\n<text text-anchor=\"middle\" x=\"5217\" y=\"-230.8\" font-family=\"Helvetica,sans-Serif\" font-size=\"14.00\" fill=\"#000000\">squared_error = 18190.563</text>\n<text text-anchor=\"middle\" x=\"5217\" y=\"-215.8\" font-family=\"Helvetica,sans-Serif\" font-size=\"14.00\" fill=\"#000000\">samples = 1258</text>\n<text text-anchor=\"middle\" x=\"5217\" y=\"-200.8\" font-family=\"Helvetica,sans-Serif\" font-size=\"14.00\" fill=\"#000000\">value = 423.483</text>\n</g>\n<!-- 48&#45;&gt;49 -->\n<g id=\"edge49\" class=\"edge\">\n<title>48&#45;&gt;49</title>\n<path fill=\"none\" stroke=\"#000000\" d=\"M5217,-296.9465C5217,-288.776 5217,-279.9318 5217,-271.3697\"/>\n<polygon fill=\"#000000\" stroke=\"#000000\" points=\"5220.5001,-271.13 5217,-261.13 5213.5001,-271.13 5220.5001,-271.13\"/>\n</g>\n<!-- 56 -->\n<g id=\"node57\" class=\"node\">\n<title>56</title>\n<polygon fill=\"#f3c3a0\" stroke=\"#000000\" points=\"5933,-261 5739,-261 5739,-193 5933,-193 5933,-261\"/>\n<text text-anchor=\"middle\" x=\"5836\" y=\"-245.8\" font-family=\"Helvetica,sans-Serif\" font-size=\"14.00\" fill=\"#000000\">기차 거리 &lt;= 15.433</text>\n<text text-anchor=\"middle\" x=\"5836\" y=\"-230.8\" font-family=\"Helvetica,sans-Serif\" font-size=\"14.00\" fill=\"#000000\">squared_error = 67469.893</text>\n<text text-anchor=\"middle\" x=\"5836\" y=\"-215.8\" font-family=\"Helvetica,sans-Serif\" font-size=\"14.00\" fill=\"#000000\">samples = 263</text>\n<text text-anchor=\"middle\" x=\"5836\" y=\"-200.8\" font-family=\"Helvetica,sans-Serif\" font-size=\"14.00\" fill=\"#000000\">value = 655.35</text>\n</g>\n<!-- 48&#45;&gt;56 -->\n<g id=\"edge56\" class=\"edge\">\n<title>48&#45;&gt;56</title>\n<path fill=\"none\" stroke=\"#000000\" d=\"M5314.059,-314.6928C5426.7149,-295.7652 5611.939,-264.6451 5728.7626,-245.0173\"/>\n<polygon fill=\"#000000\" stroke=\"#000000\" points=\"5729.5177,-248.4396 5738.7995,-243.3309 5728.3578,-241.5363 5729.5177,-248.4396\"/>\n</g>\n<!-- 50 -->\n<g id=\"node51\" class=\"node\">\n<title>50</title>\n<polygon fill=\"#f3c6a5\" stroke=\"#000000\" points=\"5208,-157 5014,-157 5014,-89 5208,-89 5208,-157\"/>\n<text text-anchor=\"middle\" x=\"5111\" y=\"-141.8\" font-family=\"Helvetica,sans-Serif\" font-size=\"14.00\" fill=\"#000000\">면적 &lt;= 155.615</text>\n<text text-anchor=\"middle\" x=\"5111\" y=\"-126.8\" font-family=\"Helvetica,sans-Serif\" font-size=\"14.00\" fill=\"#000000\">squared_error = 48542.132</text>\n<text text-anchor=\"middle\" x=\"5111\" y=\"-111.8\" font-family=\"Helvetica,sans-Serif\" font-size=\"14.00\" fill=\"#000000\">samples = 76</text>\n<text text-anchor=\"middle\" x=\"5111\" y=\"-96.8\" font-family=\"Helvetica,sans-Serif\" font-size=\"14.00\" fill=\"#000000\">value = 629.303</text>\n</g>\n<!-- 49&#45;&gt;50 -->\n<g id=\"edge50\" class=\"edge\">\n<title>49&#45;&gt;50</title>\n<path fill=\"none\" stroke=\"#000000\" d=\"M5182.2916,-192.9465C5172.9574,-183.7884 5162.7604,-173.7838 5153.0727,-164.2788\"/>\n<polygon fill=\"#000000\" stroke=\"#000000\" points=\"5155.3757,-161.6351 5145.7863,-157.13 5150.4733,-166.6318 5155.3757,-161.6351\"/>\n</g>\n<!-- 53 -->\n<g id=\"node54\" class=\"node\">\n<title>53</title>\n<polygon fill=\"#f8dfcd\" stroke=\"#000000\" points=\"5420,-157 5226,-157 5226,-89 5420,-89 5420,-157\"/>\n<text text-anchor=\"middle\" x=\"5323\" y=\"-141.8\" font-family=\"Helvetica,sans-Serif\" font-size=\"14.00\" fill=\"#000000\">기차 거리 &lt;= 15.184</text>\n<text text-anchor=\"middle\" x=\"5323\" y=\"-126.8\" font-family=\"Helvetica,sans-Serif\" font-size=\"14.00\" fill=\"#000000\">squared_error = 13340.135</text>\n<text text-anchor=\"middle\" x=\"5323\" y=\"-111.8\" font-family=\"Helvetica,sans-Serif\" font-size=\"14.00\" fill=\"#000000\">samples = 1182</text>\n<text text-anchor=\"middle\" x=\"5323\" y=\"-96.8\" font-family=\"Helvetica,sans-Serif\" font-size=\"14.00\" fill=\"#000000\">value = 410.25</text>\n</g>\n<!-- 49&#45;&gt;53 -->\n<g id=\"edge53\" class=\"edge\">\n<title>49&#45;&gt;53</title>\n<path fill=\"none\" stroke=\"#000000\" d=\"M5251.7084,-192.9465C5261.0426,-183.7884 5271.2396,-173.7838 5280.9273,-164.2788\"/>\n<polygon fill=\"#000000\" stroke=\"#000000\" points=\"5283.5267,-166.6318 5288.2137,-157.13 5278.6243,-161.6351 5283.5267,-166.6318\"/>\n</g>\n<!-- 51 -->\n<g id=\"node52\" class=\"node\">\n<title>51</title>\n<polygon fill=\"#f6d4bb\" stroke=\"#000000\" points=\"4996,-53 4802,-53 4802,0 4996,0 4996,-53\"/>\n<text text-anchor=\"middle\" x=\"4899\" y=\"-37.8\" font-family=\"Helvetica,sans-Serif\" font-size=\"14.00\" fill=\"#000000\">squared_error = 33288.716</text>\n<text text-anchor=\"middle\" x=\"4899\" y=\"-22.8\" font-family=\"Helvetica,sans-Serif\" font-size=\"14.00\" fill=\"#000000\">samples = 26</text>\n<text text-anchor=\"middle\" x=\"4899\" y=\"-7.8\" font-family=\"Helvetica,sans-Serif\" font-size=\"14.00\" fill=\"#000000\">value = 507.231</text>\n</g>\n<!-- 50&#45;&gt;51 -->\n<g id=\"edge51\" class=\"edge\">\n<title>50&#45;&gt;51</title>\n<path fill=\"none\" stroke=\"#000000\" d=\"M5036.2567,-88.9777C5013.6215,-78.6744 4988.898,-67.4205 4966.7481,-57.3381\"/>\n<polygon fill=\"#000000\" stroke=\"#000000\" points=\"4967.9779,-54.0525 4957.4264,-53.095 4965.0778,-60.4235 4967.9779,-54.0525\"/>\n</g>\n<!-- 52 -->\n<g id=\"node53\" class=\"node\">\n<title>52</title>\n<polygon fill=\"#f2be99\" stroke=\"#000000\" points=\"5208,-53 5014,-53 5014,0 5208,0 5208,-53\"/>\n<text text-anchor=\"middle\" x=\"5111\" y=\"-37.8\" font-family=\"Helvetica,sans-Serif\" font-size=\"14.00\" fill=\"#000000\">squared_error = 44695.732</text>\n<text text-anchor=\"middle\" x=\"5111\" y=\"-22.8\" font-family=\"Helvetica,sans-Serif\" font-size=\"14.00\" fill=\"#000000\">samples = 50</text>\n<text text-anchor=\"middle\" x=\"5111\" y=\"-7.8\" font-family=\"Helvetica,sans-Serif\" font-size=\"14.00\" fill=\"#000000\">value = 692.78</text>\n</g>\n<!-- 50&#45;&gt;52 -->\n<g id=\"edge52\" class=\"edge\">\n<title>50&#45;&gt;52</title>\n<path fill=\"none\" stroke=\"#000000\" d=\"M5111,-88.9777C5111,-80.7364 5111,-71.887 5111,-63.5153\"/>\n<polygon fill=\"#000000\" stroke=\"#000000\" points=\"5114.5001,-63.2484 5111,-53.2485 5107.5001,-63.2485 5114.5001,-63.2484\"/>\n</g>\n<!-- 54 -->\n<g id=\"node55\" class=\"node\">\n<title>54</title>\n<polygon fill=\"#f7dac5\" stroke=\"#000000\" points=\"5420,-53 5226,-53 5226,0 5420,0 5420,-53\"/>\n<text text-anchor=\"middle\" x=\"5323\" y=\"-37.8\" font-family=\"Helvetica,sans-Serif\" font-size=\"14.00\" fill=\"#000000\">squared_error = 17855.377</text>\n<text text-anchor=\"middle\" x=\"5323\" y=\"-22.8\" font-family=\"Helvetica,sans-Serif\" font-size=\"14.00\" fill=\"#000000\">samples = 564</text>\n<text text-anchor=\"middle\" x=\"5323\" y=\"-7.8\" font-family=\"Helvetica,sans-Serif\" font-size=\"14.00\" fill=\"#000000\">value = 452.863</text>\n</g>\n<!-- 53&#45;&gt;54 -->\n<g id=\"edge54\" class=\"edge\">\n<title>53&#45;&gt;54</title>\n<path fill=\"none\" stroke=\"#000000\" d=\"M5323,-88.9777C5323,-80.7364 5323,-71.887 5323,-63.5153\"/>\n<polygon fill=\"#000000\" stroke=\"#000000\" points=\"5326.5001,-63.2484 5323,-53.2485 5319.5001,-63.2485 5326.5001,-63.2484\"/>\n</g>\n<!-- 55 -->\n<g id=\"node56\" class=\"node\">\n<title>55</title>\n<polygon fill=\"#f9e4d4\" stroke=\"#000000\" points=\"5622.5,-53 5437.5,-53 5437.5,0 5622.5,0 5622.5,-53\"/>\n<text text-anchor=\"middle\" x=\"5530\" y=\"-37.8\" font-family=\"Helvetica,sans-Serif\" font-size=\"14.00\" fill=\"#000000\">squared_error = 6049.699</text>\n<text text-anchor=\"middle\" x=\"5530\" y=\"-22.8\" font-family=\"Helvetica,sans-Serif\" font-size=\"14.00\" fill=\"#000000\">samples = 618</text>\n<text text-anchor=\"middle\" x=\"5530\" y=\"-7.8\" font-family=\"Helvetica,sans-Serif\" font-size=\"14.00\" fill=\"#000000\">value = 371.359</text>\n</g>\n<!-- 53&#45;&gt;55 -->\n<g id=\"edge55\" class=\"edge\">\n<title>53&#45;&gt;55</title>\n<path fill=\"none\" stroke=\"#000000\" d=\"M5395.9805,-88.9777C5418.0818,-78.6744 5442.2222,-67.4205 5463.8498,-57.3381\"/>\n<polygon fill=\"#000000\" stroke=\"#000000\" points=\"5465.3669,-60.4926 5472.9516,-53.095 5462.4092,-54.1481 5465.3669,-60.4926\"/>\n</g>\n<!-- 57 -->\n<g id=\"node58\" class=\"node\">\n<title>57</title>\n<polygon fill=\"#f0b68c\" stroke=\"#000000\" points=\"5933,-157 5739,-157 5739,-89 5933,-89 5933,-157\"/>\n<text text-anchor=\"middle\" x=\"5836\" y=\"-141.8\" font-family=\"Helvetica,sans-Serif\" font-size=\"14.00\" fill=\"#000000\">면적 &lt;= 233.19</text>\n<text text-anchor=\"middle\" x=\"5836\" y=\"-126.8\" font-family=\"Helvetica,sans-Serif\" font-size=\"14.00\" fill=\"#000000\">squared_error = 72883.811</text>\n<text text-anchor=\"middle\" x=\"5836\" y=\"-111.8\" font-family=\"Helvetica,sans-Serif\" font-size=\"14.00\" fill=\"#000000\">samples = 148</text>\n<text text-anchor=\"middle\" x=\"5836\" y=\"-96.8\" font-family=\"Helvetica,sans-Serif\" font-size=\"14.00\" fill=\"#000000\">value = 766.142</text>\n</g>\n<!-- 56&#45;&gt;57 -->\n<g id=\"edge57\" class=\"edge\">\n<title>56&#45;&gt;57</title>\n<path fill=\"none\" stroke=\"#000000\" d=\"M5836,-192.9465C5836,-184.776 5836,-175.9318 5836,-167.3697\"/>\n<polygon fill=\"#000000\" stroke=\"#000000\" points=\"5839.5001,-167.13 5836,-157.13 5832.5001,-167.13 5839.5001,-167.13\"/>\n</g>\n<!-- 60 -->\n<g id=\"node61\" class=\"node\">\n<title>60</title>\n<polygon fill=\"#f6d3ba\" stroke=\"#000000\" points=\"6249,-157 6055,-157 6055,-89 6249,-89 6249,-157\"/>\n<text text-anchor=\"middle\" x=\"6152\" y=\"-141.8\" font-family=\"Helvetica,sans-Serif\" font-size=\"14.00\" fill=\"#000000\">면적 &lt;= 262.45</text>\n<text text-anchor=\"middle\" x=\"6152\" y=\"-126.8\" font-family=\"Helvetica,sans-Serif\" font-size=\"14.00\" fill=\"#000000\">squared_error = 24374.806</text>\n<text text-anchor=\"middle\" x=\"6152\" y=\"-111.8\" font-family=\"Helvetica,sans-Serif\" font-size=\"14.00\" fill=\"#000000\">samples = 115</text>\n<text text-anchor=\"middle\" x=\"6152\" y=\"-96.8\" font-family=\"Helvetica,sans-Serif\" font-size=\"14.00\" fill=\"#000000\">value = 512.765</text>\n</g>\n<!-- 56&#45;&gt;60 -->\n<g id=\"edge60\" class=\"edge\">\n<title>56&#45;&gt;60</title>\n<path fill=\"none\" stroke=\"#000000\" d=\"M5933.3889,-194.948C5968.8467,-183.2783 6009.1047,-170.0288 6045.3255,-158.1081\"/>\n<polygon fill=\"#000000\" stroke=\"#000000\" points=\"6046.5281,-161.397 6054.9327,-154.9462 6044.3397,-154.7479 6046.5281,-161.397\"/>\n</g>\n<!-- 58 -->\n<g id=\"node59\" class=\"node\">\n<title>58</title>\n<polygon fill=\"#f2c09b\" stroke=\"#000000\" points=\"5825.5,-53 5640.5,-53 5640.5,0 5825.5,0 5825.5,-53\"/>\n<text text-anchor=\"middle\" x=\"5733\" y=\"-37.8\" font-family=\"Helvetica,sans-Serif\" font-size=\"14.00\" fill=\"#000000\">squared_error = 55273.74</text>\n<text text-anchor=\"middle\" x=\"5733\" y=\"-22.8\" font-family=\"Helvetica,sans-Serif\" font-size=\"14.00\" fill=\"#000000\">samples = 63</text>\n<text text-anchor=\"middle\" x=\"5733\" y=\"-7.8\" font-family=\"Helvetica,sans-Serif\" font-size=\"14.00\" fill=\"#000000\">value = 680.683</text>\n</g>\n<!-- 57&#45;&gt;58 -->\n<g id=\"edge58\" class=\"edge\">\n<title>57&#45;&gt;58</title>\n<path fill=\"none\" stroke=\"#000000\" d=\"M5799.6861,-88.9777C5789.7168,-79.6376 5778.9138,-69.5163 5768.9643,-60.1947\"/>\n<polygon fill=\"#000000\" stroke=\"#000000\" points=\"5771.2408,-57.5314 5761.5502,-53.2485 5766.4548,-62.6397 5771.2408,-57.5314\"/>\n</g>\n<!-- 59 -->\n<g id=\"node60\" class=\"node\">\n<title>59</title>\n<polygon fill=\"#eeae80\" stroke=\"#000000\" points=\"6037,-53 5843,-53 5843,0 6037,0 6037,-53\"/>\n<text text-anchor=\"middle\" x=\"5940\" y=\"-37.8\" font-family=\"Helvetica,sans-Serif\" font-size=\"14.00\" fill=\"#000000\">squared_error = 76510.932</text>\n<text text-anchor=\"middle\" x=\"5940\" y=\"-22.8\" font-family=\"Helvetica,sans-Serif\" font-size=\"14.00\" fill=\"#000000\">samples = 85</text>\n<text text-anchor=\"middle\" x=\"5940\" y=\"-7.8\" font-family=\"Helvetica,sans-Serif\" font-size=\"14.00\" fill=\"#000000\">value = 829.482</text>\n</g>\n<!-- 57&#45;&gt;59 -->\n<g id=\"edge59\" class=\"edge\">\n<title>57&#45;&gt;59</title>\n<path fill=\"none\" stroke=\"#000000\" d=\"M5872.6665,-88.9777C5882.7325,-79.6376 5893.6404,-69.5163 5903.6865,-60.1947\"/>\n<polygon fill=\"#000000\" stroke=\"#000000\" points=\"5906.2228,-62.616 5911.1726,-53.2485 5901.4615,-57.4847 5906.2228,-62.616\"/>\n</g>\n<!-- 61 -->\n<g id=\"node62\" class=\"node\">\n<title>61</title>\n<polygon fill=\"#f7d6bf\" stroke=\"#000000\" points=\"6249,-53 6055,-53 6055,0 6249,0 6249,-53\"/>\n<text text-anchor=\"middle\" x=\"6152\" y=\"-37.8\" font-family=\"Helvetica,sans-Serif\" font-size=\"14.00\" fill=\"#000000\">squared_error = 16565.164</text>\n<text text-anchor=\"middle\" x=\"6152\" y=\"-22.8\" font-family=\"Helvetica,sans-Serif\" font-size=\"14.00\" fill=\"#000000\">samples = 100</text>\n<text text-anchor=\"middle\" x=\"6152\" y=\"-7.8\" font-family=\"Helvetica,sans-Serif\" font-size=\"14.00\" fill=\"#000000\">value = 483.58</text>\n</g>\n<!-- 60&#45;&gt;61 -->\n<g id=\"edge61\" class=\"edge\">\n<title>60&#45;&gt;61</title>\n<path fill=\"none\" stroke=\"#000000\" d=\"M6152,-88.9777C6152,-80.7364 6152,-71.887 6152,-63.5153\"/>\n<polygon fill=\"#000000\" stroke=\"#000000\" points=\"6155.5001,-63.2484 6152,-53.2485 6148.5001,-63.2485 6155.5001,-63.2484\"/>\n</g>\n<!-- 62 -->\n<g id=\"node63\" class=\"node\">\n<title>62</title>\n<polygon fill=\"#f1bc96\" stroke=\"#000000\" points=\"6461,-53 6267,-53 6267,0 6461,0 6461,-53\"/>\n<text text-anchor=\"middle\" x=\"6364\" y=\"-37.8\" font-family=\"Helvetica,sans-Serif\" font-size=\"14.00\" fill=\"#000000\">squared_error = 32903.822</text>\n<text text-anchor=\"middle\" x=\"6364\" y=\"-22.8\" font-family=\"Helvetica,sans-Serif\" font-size=\"14.00\" fill=\"#000000\">samples = 15</text>\n<text text-anchor=\"middle\" x=\"6364\" y=\"-7.8\" font-family=\"Helvetica,sans-Serif\" font-size=\"14.00\" fill=\"#000000\">value = 707.333</text>\n</g>\n<!-- 60&#45;&gt;62 -->\n<g id=\"edge62\" class=\"edge\">\n<title>60&#45;&gt;62</title>\n<path fill=\"none\" stroke=\"#000000\" d=\"M6226.7433,-88.9777C6249.3785,-78.6744 6274.102,-67.4205 6296.2519,-57.3381\"/>\n<polygon fill=\"#000000\" stroke=\"#000000\" points=\"6297.9222,-60.4235 6305.5736,-53.095 6295.0221,-54.0525 6297.9222,-60.4235\"/>\n</g>\n</g>\n</svg>\n"
          },
          "metadata": {},
          "execution_count": 18
        }
      ]
    },
    {
      "cell_type": "markdown",
      "source": [
        "SVR"
      ],
      "metadata": {
        "id": "zh9KwcA2vZ4D"
      }
    },
    {
      "cell_type": "code",
      "source": [
        "from pandas.core.common import random_state\n",
        "\n",
        "X = df[['지하철 거리', '공항 거리', '병원 거리', '기차 거리', '면적','방 개수','집 종류']]\n",
        "Y = np.log1p(df[\"월세 달러\"])\n",
        "\n",
        "#분포에 민감하게 반응\n",
        "#accuracy가 마이너스로 나와서 로그를 씌워 정규분포화하여 진행\n",
        "\n",
        "\n",
        "X_train, X_test, Y_train, Y_test = train_test_split(X, Y, test_size = 0.3, random_state = 0)\n",
        "\n",
        "scaler = StandardScaler().fit(X_train, Y_train)\n",
        "X_test = scaler.transform(X_test)\n",
        "X_train = scaler.transform(X_train)\n",
        "\n",
        "from sklearn.svm import SVR\n",
        "\n",
        "SVR_model = SVR(C=1,kernel = \"linear\",epsilon=0.1)\n",
        "SVR_model.fit(X_train,Y_train)\n",
        "Y_pred = SVR_model.predict(X_test)\n",
        "\n",
        "print(\"accuracy :{:.3f}\".format(SVR_model.score(X_train,Y_train)))\n",
        "rmse = sqrt(mean_squared_error(Y_test,Y_pred))\n",
        "print(\"RMSE : {:.3f}\".format(rmse))\n",
        "print(SVR_model.coef_)"
      ],
      "metadata": {
        "colab": {
          "base_uri": "https://localhost:8080/"
        },
        "id": "UeeFi6gVmLlq",
        "outputId": "216ce39b-fb45-4760-9eb9-4f6ec45a790c"
      },
      "execution_count": 26,
      "outputs": [
        {
          "output_type": "stream",
          "name": "stdout",
          "text": [
            "accuracy :0.693\n",
            "RMSE : 0.685\n",
            "[[ 0.01318007 -0.06228596 -0.0811787  -0.14812297  0.40256992  0.18696113\n",
            "  -0.01284895]]\n"
          ]
        }
      ]
    },
    {
      "cell_type": "markdown",
      "source": [
        "모형 성능비교"
      ],
      "metadata": {
        "id": "Tk3JbT_oMaKc"
      }
    },
    {
      "cell_type": "code",
      "source": [
        "X1 = df[['지하철 거리', '공항 거리', '병원 거리', '기차 거리', '면적','방 개수','집 종류']]\n",
        "Y1 = df[\"월세 달러\"]"
      ],
      "metadata": {
        "id": "bT-H-0pdLnbn"
      },
      "execution_count": 36,
      "outputs": []
    },
    {
      "cell_type": "code",
      "source": [
        "X1.columns"
      ],
      "metadata": {
        "colab": {
          "base_uri": "https://localhost:8080/"
        },
        "id": "zLNLY9nLx8Nq",
        "outputId": "11e52bbf-fa11-4d07-fbb8-52a1e59e1b5f"
      },
      "execution_count": 37,
      "outputs": [
        {
          "output_type": "execute_result",
          "data": {
            "text/plain": [
              "Index(['지하철 거리', '공항 거리', '병원 거리', '기차 거리', '면적', '방 개수', '집 종류'], dtype='object')"
            ]
          },
          "metadata": {},
          "execution_count": 37
        }
      ]
    },
    {
      "cell_type": "code",
      "source": [
        "X_train, X_test, Y_train, Y_test = train_test_split(X1, Y1, test_size=0.3, random_state=0)\n",
        "\n",
        "ct = ColumnTransformer([(\"scaling\",StandardScaler(),['지하철 거리', '공항 거리', '병원 거리','기차 거리','면적']),\n",
        "                        (\"onehot\", OneHotEncoder(sparse=False),['집 종류','방 개수'])])\n",
        "ct.fit(X_train)\n",
        "X_train = ct.transform(X_train)\n",
        "X_test = ct.transform(X_test)"
      ],
      "metadata": {
        "id": "0FgYPlYML2cM"
      },
      "execution_count": 39,
      "outputs": []
    },
    {
      "cell_type": "code",
      "source": [
        "knn_model = KNeighborsRegressor(n_neighbors = 9)\n",
        "dt_model_reg = DecisionTreeRegressor(random_state = 0, max_depth = 3)\n",
        "svr_model = SVR(C=1,kernel = \"linear\",epsilon=0.1)"
      ],
      "metadata": {
        "id": "f4HdCDQVMrCs"
      },
      "execution_count": 49,
      "outputs": []
    },
    {
      "cell_type": "code",
      "source": [
        "knn_model.fit(X_train, Y_train)\n",
        "dt_model_reg.fit(X_train, Y_train)\n",
        "svr_model.fit(X_train, Y_train)"
      ],
      "metadata": {
        "colab": {
          "base_uri": "https://localhost:8080/"
        },
        "id": "3VljNJaQOr-A",
        "outputId": "1e5a3d6d-d98d-4177-ae17-7dbd6930af31"
      },
      "execution_count": 50,
      "outputs": [
        {
          "output_type": "execute_result",
          "data": {
            "text/plain": [
              "SVR(C=1, kernel='linear')"
            ]
          },
          "metadata": {},
          "execution_count": 50
        }
      ]
    },
    {
      "cell_type": "code",
      "source": [
        "knn_Y_pred = knn_model.predict(X_test)\n",
        "dt_Y_pred = dt_model_reg.predict(X_test)\n",
        "svr_Y_pred = svr_model.predict(X_test)"
      ],
      "metadata": {
        "id": "_BN5MftZPY0o"
      },
      "execution_count": 52,
      "outputs": []
    },
    {
      "cell_type": "code",
      "source": [
        "print(\"knn score : {:.3f}\".format(knn_model.score(X_train, Y_train)))\n",
        "print(\"dt score : {:.3f}\".format(dt_model_reg.score(X_train, Y_train)))\n",
        "print(\"svr score : {:.3f}\".format(svr_model.score(X_train, Y_train)))"
      ],
      "metadata": {
        "colab": {
          "base_uri": "https://localhost:8080/"
        },
        "id": "rjNWa1snPoGv",
        "outputId": "87aa5b00-d089-4601-c10e-7b84fb779362"
      },
      "execution_count": 53,
      "outputs": [
        {
          "output_type": "stream",
          "name": "stdout",
          "text": [
            "knn score : 0.837\n",
            "dt score : 0.696\n",
            "svr score : 0.648\n"
          ]
        }
      ]
    },
    {
      "cell_type": "markdown",
      "source": [
        "KNN 모델이 월세달러와의 변수들의 상관관계를 가장 잘 설명한다"
      ],
      "metadata": {
        "id": "kepVEJzJVlqF"
      }
    }
  ]
}